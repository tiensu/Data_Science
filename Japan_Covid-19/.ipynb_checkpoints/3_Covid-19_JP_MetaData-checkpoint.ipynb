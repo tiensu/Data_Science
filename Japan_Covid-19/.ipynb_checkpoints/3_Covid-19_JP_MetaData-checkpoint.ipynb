{
 "cells": [
  {
   "cell_type": "markdown",
   "id": "a606b940",
   "metadata": {},
   "source": [
    "# Import libraries"
   ]
  },
  {
   "cell_type": "code",
   "execution_count": 53,
   "id": "f7bf2633",
   "metadata": {},
   "outputs": [],
   "source": [
    "import numpy as np\n",
    "import pandas as pd\n",
    "import plotly.express as px\n",
    "import plotly.graph_objects as go\n",
    "import bar_chart_race as bcr"
   ]
  },
  {
   "cell_type": "markdown",
   "id": "77178e6e",
   "metadata": {},
   "source": [
    "# Load dataset"
   ]
  },
  {
   "cell_type": "code",
   "execution_count": 54,
   "id": "68929dc3",
   "metadata": {},
   "outputs": [
    {
     "data": {
      "text/html": [
       "<div>\n",
       "<style scoped>\n",
       "    .dataframe tbody tr th:only-of-type {\n",
       "        vertical-align: middle;\n",
       "    }\n",
       "\n",
       "    .dataframe tbody tr th {\n",
       "        vertical-align: top;\n",
       "    }\n",
       "\n",
       "    .dataframe thead th {\n",
       "        text-align: right;\n",
       "    }\n",
       "</style>\n",
       "<table border=\"1\" class=\"dataframe\">\n",
       "  <thead>\n",
       "    <tr style=\"text-align: right;\">\n",
       "      <th></th>\n",
       "      <th>Prefecture</th>\n",
       "      <th>Category</th>\n",
       "      <th>Item</th>\n",
       "      <th>Value</th>\n",
       "      <th>Date</th>\n",
       "      <th>Primary_source</th>\n",
       "      <th>Secondary_source</th>\n",
       "    </tr>\n",
       "  </thead>\n",
       "  <tbody>\n",
       "    <tr>\n",
       "      <th>841</th>\n",
       "      <td>Kumamoto</td>\n",
       "      <td>Admin</td>\n",
       "      <td>Num</td>\n",
       "      <td>43</td>\n",
       "      <td>2012-04-27</td>\n",
       "      <td>http://nlftp.mlit.go.jp/ksj/gml/codelist/PrefC...</td>\n",
       "      <td>NaN</td>\n",
       "    </tr>\n",
       "    <tr>\n",
       "      <th>842</th>\n",
       "      <td>Oita</td>\n",
       "      <td>Admin</td>\n",
       "      <td>Num</td>\n",
       "      <td>44</td>\n",
       "      <td>2012-04-27</td>\n",
       "      <td>http://nlftp.mlit.go.jp/ksj/gml/codelist/PrefC...</td>\n",
       "      <td>NaN</td>\n",
       "    </tr>\n",
       "    <tr>\n",
       "      <th>843</th>\n",
       "      <td>Miyazaki</td>\n",
       "      <td>Admin</td>\n",
       "      <td>Num</td>\n",
       "      <td>45</td>\n",
       "      <td>2012-04-27</td>\n",
       "      <td>http://nlftp.mlit.go.jp/ksj/gml/codelist/PrefC...</td>\n",
       "      <td>NaN</td>\n",
       "    </tr>\n",
       "    <tr>\n",
       "      <th>844</th>\n",
       "      <td>Kagoshima</td>\n",
       "      <td>Admin</td>\n",
       "      <td>Num</td>\n",
       "      <td>46</td>\n",
       "      <td>2012-04-27</td>\n",
       "      <td>http://nlftp.mlit.go.jp/ksj/gml/codelist/PrefC...</td>\n",
       "      <td>NaN</td>\n",
       "    </tr>\n",
       "    <tr>\n",
       "      <th>845</th>\n",
       "      <td>Okinawa</td>\n",
       "      <td>Admin</td>\n",
       "      <td>Num</td>\n",
       "      <td>47</td>\n",
       "      <td>2012-04-27</td>\n",
       "      <td>http://nlftp.mlit.go.jp/ksj/gml/codelist/PrefC...</td>\n",
       "      <td>NaN</td>\n",
       "    </tr>\n",
       "  </tbody>\n",
       "</table>\n",
       "</div>"
      ],
      "text/plain": [
       "    Prefecture Category Item Value        Date  \\\n",
       "841   Kumamoto    Admin  Num    43  2012-04-27   \n",
       "842       Oita    Admin  Num    44  2012-04-27   \n",
       "843   Miyazaki    Admin  Num    45  2012-04-27   \n",
       "844  Kagoshima    Admin  Num    46  2012-04-27   \n",
       "845    Okinawa    Admin  Num    47  2012-04-27   \n",
       "\n",
       "                                        Primary_source Secondary_source  \n",
       "841  http://nlftp.mlit.go.jp/ksj/gml/codelist/PrefC...              NaN  \n",
       "842  http://nlftp.mlit.go.jp/ksj/gml/codelist/PrefC...              NaN  \n",
       "843  http://nlftp.mlit.go.jp/ksj/gml/codelist/PrefC...              NaN  \n",
       "844  http://nlftp.mlit.go.jp/ksj/gml/codelist/PrefC...              NaN  \n",
       "845  http://nlftp.mlit.go.jp/ksj/gml/codelist/PrefC...              NaN  "
      ]
     },
     "execution_count": 54,
     "metadata": {},
     "output_type": "execute_result"
    }
   ],
   "source": [
    "# read data from csv file\n",
    "data_file_path = 'dataset/covid_jpn_metadata.csv'\n",
    "df_raw = pd.read_csv(data_file_path)\n",
    "df_raw.tail()"
   ]
  },
  {
   "cell_type": "code",
   "execution_count": 55,
   "id": "da9e7ab6",
   "metadata": {},
   "outputs": [
    {
     "name": "stdout",
     "output_type": "stream",
     "text": [
      "<class 'pandas.core.frame.DataFrame'>\n",
      "RangeIndex: 846 entries, 0 to 845\n",
      "Data columns (total 7 columns):\n",
      " #   Column            Non-Null Count  Dtype \n",
      "---  ------            --------------  ----- \n",
      " 0   Prefecture        846 non-null    object\n",
      " 1   Category          846 non-null    object\n",
      " 2   Item              846 non-null    object\n",
      " 3   Value             846 non-null    object\n",
      " 4   Date              846 non-null    object\n",
      " 5   Primary_source    564 non-null    object\n",
      " 6   Secondary_source  470 non-null    object\n",
      "dtypes: object(7)\n",
      "memory usage: 46.4+ KB\n"
     ]
    }
   ],
   "source": [
    "# display data infomation\n",
    "df_raw.info()"
   ]
  },
  {
   "cell_type": "markdown",
   "id": "2a750fa5",
   "metadata": {},
   "source": [
    "# Data Cleaning"
   ]
  },
  {
   "cell_type": "code",
   "execution_count": 56,
   "id": "ccaaf19e",
   "metadata": {},
   "outputs": [],
   "source": [
    "# create a copy version of data\n",
    "df_clean = df_raw.copy()"
   ]
  },
  {
   "cell_type": "code",
   "execution_count": 57,
   "id": "8717db2d",
   "metadata": {},
   "outputs": [
    {
     "data": {
      "text/html": [
       "<div>\n",
       "<style scoped>\n",
       "    .dataframe tbody tr th:only-of-type {\n",
       "        vertical-align: middle;\n",
       "    }\n",
       "\n",
       "    .dataframe tbody tr th {\n",
       "        vertical-align: top;\n",
       "    }\n",
       "\n",
       "    .dataframe thead th {\n",
       "        text-align: right;\n",
       "    }\n",
       "</style>\n",
       "<table border=\"1\" class=\"dataframe\">\n",
       "  <thead>\n",
       "    <tr style=\"text-align: right;\">\n",
       "      <th></th>\n",
       "      <th>Prefecture</th>\n",
       "      <th>Category</th>\n",
       "      <th>Item</th>\n",
       "      <th>Value</th>\n",
       "      <th>Date</th>\n",
       "    </tr>\n",
       "  </thead>\n",
       "  <tbody>\n",
       "    <tr>\n",
       "      <th>0</th>\n",
       "      <td>Hokkaido</td>\n",
       "      <td>Population</td>\n",
       "      <td>Total</td>\n",
       "      <td>5320</td>\n",
       "      <td>2017-10-01</td>\n",
       "    </tr>\n",
       "    <tr>\n",
       "      <th>1</th>\n",
       "      <td>Aomori</td>\n",
       "      <td>Population</td>\n",
       "      <td>Total</td>\n",
       "      <td>1278</td>\n",
       "      <td>2017-10-01</td>\n",
       "    </tr>\n",
       "    <tr>\n",
       "      <th>2</th>\n",
       "      <td>Iwate</td>\n",
       "      <td>Population</td>\n",
       "      <td>Total</td>\n",
       "      <td>1255</td>\n",
       "      <td>2017-10-01</td>\n",
       "    </tr>\n",
       "    <tr>\n",
       "      <th>3</th>\n",
       "      <td>Miyagi</td>\n",
       "      <td>Population</td>\n",
       "      <td>Total</td>\n",
       "      <td>2323</td>\n",
       "      <td>2017-10-01</td>\n",
       "    </tr>\n",
       "    <tr>\n",
       "      <th>4</th>\n",
       "      <td>Akita</td>\n",
       "      <td>Population</td>\n",
       "      <td>Total</td>\n",
       "      <td>996</td>\n",
       "      <td>2017-10-01</td>\n",
       "    </tr>\n",
       "  </tbody>\n",
       "</table>\n",
       "</div>"
      ],
      "text/plain": [
       "  Prefecture    Category   Item Value        Date\n",
       "0   Hokkaido  Population  Total  5320  2017-10-01\n",
       "1     Aomori  Population  Total  1278  2017-10-01\n",
       "2      Iwate  Population  Total  1255  2017-10-01\n",
       "3     Miyagi  Population  Total  2323  2017-10-01\n",
       "4      Akita  Population  Total   996  2017-10-01"
      ]
     },
     "execution_count": 57,
     "metadata": {},
     "output_type": "execute_result"
    }
   ],
   "source": [
    "# drop 2 features which are not necessary and have many missing values.\n",
    "df_clean.drop(['Primary_source', 'Secondary_source'], axis=1, inplace=True)\n",
    "df_clean.head()"
   ]
  },
  {
   "cell_type": "code",
   "execution_count": 58,
   "id": "eac53836",
   "metadata": {},
   "outputs": [
    {
     "name": "stdout",
     "output_type": "stream",
     "text": [
      "['Population' 'Area' 'Hospital_bed' 'Clinic_bed' 'Location' 'Admin']\n",
      "['Total' 'Male' 'Female' 'Habitable' 'Specific' 'Type-I' 'Type-II'\n",
      " 'Tuberculosis' 'Care' 'Latitude' 'Longitude' 'Capital' 'Region' 'Num']\n"
     ]
    }
   ],
   "source": [
    "# print values of 2 features: Category and Item\n",
    "print(df_clean['Category'].unique())\n",
    "print(df_clean['Item'].unique())"
   ]
  },
  {
   "cell_type": "code",
   "execution_count": 59,
   "id": "b2b7d7f2",
   "metadata": {},
   "outputs": [
    {
     "data": {
      "text/html": [
       "<div>\n",
       "<style scoped>\n",
       "    .dataframe tbody tr th:only-of-type {\n",
       "        vertical-align: middle;\n",
       "    }\n",
       "\n",
       "    .dataframe tbody tr th {\n",
       "        vertical-align: top;\n",
       "    }\n",
       "\n",
       "    .dataframe thead th {\n",
       "        text-align: right;\n",
       "    }\n",
       "</style>\n",
       "<table border=\"1\" class=\"dataframe\">\n",
       "  <thead>\n",
       "    <tr style=\"text-align: right;\">\n",
       "      <th></th>\n",
       "      <th>Prefecture</th>\n",
       "      <th>Category</th>\n",
       "      <th>Item</th>\n",
       "      <th>Value</th>\n",
       "      <th>Date</th>\n",
       "      <th>Title</th>\n",
       "    </tr>\n",
       "  </thead>\n",
       "  <tbody>\n",
       "    <tr>\n",
       "      <th>0</th>\n",
       "      <td>Hokkaido</td>\n",
       "      <td>Population</td>\n",
       "      <td>Total</td>\n",
       "      <td>5320</td>\n",
       "      <td>2017-10-01</td>\n",
       "      <td>Population_Total</td>\n",
       "    </tr>\n",
       "    <tr>\n",
       "      <th>1</th>\n",
       "      <td>Aomori</td>\n",
       "      <td>Population</td>\n",
       "      <td>Total</td>\n",
       "      <td>1278</td>\n",
       "      <td>2017-10-01</td>\n",
       "      <td>Population_Total</td>\n",
       "    </tr>\n",
       "    <tr>\n",
       "      <th>2</th>\n",
       "      <td>Iwate</td>\n",
       "      <td>Population</td>\n",
       "      <td>Total</td>\n",
       "      <td>1255</td>\n",
       "      <td>2017-10-01</td>\n",
       "      <td>Population_Total</td>\n",
       "    </tr>\n",
       "    <tr>\n",
       "      <th>3</th>\n",
       "      <td>Miyagi</td>\n",
       "      <td>Population</td>\n",
       "      <td>Total</td>\n",
       "      <td>2323</td>\n",
       "      <td>2017-10-01</td>\n",
       "      <td>Population_Total</td>\n",
       "    </tr>\n",
       "    <tr>\n",
       "      <th>4</th>\n",
       "      <td>Akita</td>\n",
       "      <td>Population</td>\n",
       "      <td>Total</td>\n",
       "      <td>996</td>\n",
       "      <td>2017-10-01</td>\n",
       "      <td>Population_Total</td>\n",
       "    </tr>\n",
       "  </tbody>\n",
       "</table>\n",
       "</div>"
      ],
      "text/plain": [
       "  Prefecture    Category   Item Value        Date             Title\n",
       "0   Hokkaido  Population  Total  5320  2017-10-01  Population_Total\n",
       "1     Aomori  Population  Total  1278  2017-10-01  Population_Total\n",
       "2      Iwate  Population  Total  1255  2017-10-01  Population_Total\n",
       "3     Miyagi  Population  Total  2323  2017-10-01  Population_Total\n",
       "4      Akita  Population  Total   996  2017-10-01  Population_Total"
      ]
     },
     "execution_count": 59,
     "metadata": {},
     "output_type": "execute_result"
    }
   ],
   "source": [
    "# Merge two features: Category and Item\n",
    "df_clean['Title'] = df_clean['Category'].str.cat(df_clean['Item'], sep='_')\n",
    "df_clean.head()"
   ]
  },
  {
   "cell_type": "code",
   "execution_count": 60,
   "id": "d363545d",
   "metadata": {
    "scrolled": true
   },
   "outputs": [
    {
     "data": {
      "text/html": [
       "<div>\n",
       "<style scoped>\n",
       "    .dataframe tbody tr th:only-of-type {\n",
       "        vertical-align: middle;\n",
       "    }\n",
       "\n",
       "    .dataframe tbody tr th {\n",
       "        vertical-align: top;\n",
       "    }\n",
       "\n",
       "    .dataframe thead th {\n",
       "        text-align: right;\n",
       "    }\n",
       "</style>\n",
       "<table border=\"1\" class=\"dataframe\">\n",
       "  <thead>\n",
       "    <tr style=\"text-align: right;\">\n",
       "      <th></th>\n",
       "      <th>Prefecture</th>\n",
       "      <th>Category</th>\n",
       "      <th>Item</th>\n",
       "      <th>Value</th>\n",
       "      <th>Date</th>\n",
       "      <th>Title</th>\n",
       "    </tr>\n",
       "  </thead>\n",
       "  <tbody>\n",
       "    <tr>\n",
       "      <th>0</th>\n",
       "      <td>Aomori</td>\n",
       "      <td>Admin</td>\n",
       "      <td>Region</td>\n",
       "      <td>Tohoku</td>\n",
       "      <td>2020-04-11</td>\n",
       "      <td>Admin_Region</td>\n",
       "    </tr>\n",
       "    <tr>\n",
       "      <th>1</th>\n",
       "      <td>Shiga</td>\n",
       "      <td>Admin</td>\n",
       "      <td>Region</td>\n",
       "      <td>Kinki</td>\n",
       "      <td>2020-04-11</td>\n",
       "      <td>Admin_Region</td>\n",
       "    </tr>\n",
       "    <tr>\n",
       "      <th>2</th>\n",
       "      <td>Aichi</td>\n",
       "      <td>Admin</td>\n",
       "      <td>Region</td>\n",
       "      <td>Chubu</td>\n",
       "      <td>2020-04-11</td>\n",
       "      <td>Admin_Region</td>\n",
       "    </tr>\n",
       "    <tr>\n",
       "      <th>3</th>\n",
       "      <td>Shizuoka</td>\n",
       "      <td>Admin</td>\n",
       "      <td>Region</td>\n",
       "      <td>Chubu</td>\n",
       "      <td>2020-04-11</td>\n",
       "      <td>Admin_Region</td>\n",
       "    </tr>\n",
       "    <tr>\n",
       "      <th>4</th>\n",
       "      <td>Gifu</td>\n",
       "      <td>Admin</td>\n",
       "      <td>Region</td>\n",
       "      <td>Chubu</td>\n",
       "      <td>2020-04-11</td>\n",
       "      <td>Admin_Region</td>\n",
       "    </tr>\n",
       "  </tbody>\n",
       "</table>\n",
       "</div>"
      ],
      "text/plain": [
       "  Prefecture Category    Item   Value       Date         Title\n",
       "0     Aomori    Admin  Region  Tohoku 2020-04-11  Admin_Region\n",
       "1      Shiga    Admin  Region   Kinki 2020-04-11  Admin_Region\n",
       "2      Aichi    Admin  Region   Chubu 2020-04-11  Admin_Region\n",
       "3   Shizuoka    Admin  Region   Chubu 2020-04-11  Admin_Region\n",
       "4       Gifu    Admin  Region   Chubu 2020-04-11  Admin_Region"
      ]
     },
     "execution_count": 60,
     "metadata": {},
     "output_type": "execute_result"
    }
   ],
   "source": [
    "# Convert feature Date to datetime object and sort\n",
    "df_clean['Date'] = pd.to_datetime(df_clean['Date'])\n",
    "\n",
    "# sort data by 'Date' feature\n",
    "df_clean = df_clean.sort_values('Date', ascending=False).reset_index(drop=True)\n",
    "\n",
    "# display 5 first data samples\n",
    "df_clean.head()"
   ]
  },
  {
   "cell_type": "code",
   "execution_count": 44,
   "id": "4cff0ca8",
   "metadata": {},
   "outputs": [
    {
     "data": {
      "text/html": [
       "<div>\n",
       "<style scoped>\n",
       "    .dataframe tbody tr th:only-of-type {\n",
       "        vertical-align: middle;\n",
       "    }\n",
       "\n",
       "    .dataframe tbody tr th {\n",
       "        vertical-align: top;\n",
       "    }\n",
       "\n",
       "    .dataframe thead th {\n",
       "        text-align: right;\n",
       "    }\n",
       "</style>\n",
       "<table border=\"1\" class=\"dataframe\">\n",
       "  <thead>\n",
       "    <tr style=\"text-align: right;\">\n",
       "      <th>Title</th>\n",
       "      <th>Admin_Capital</th>\n",
       "      <th>Admin_Num</th>\n",
       "      <th>Admin_Region</th>\n",
       "      <th>Area_Habitable</th>\n",
       "      <th>Area_Total</th>\n",
       "      <th>Clinic_bed_Care</th>\n",
       "      <th>Clinic_bed_Total</th>\n",
       "      <th>Hospital_bed_Care</th>\n",
       "      <th>Hospital_bed_Specific</th>\n",
       "      <th>Hospital_bed_Total</th>\n",
       "      <th>Hospital_bed_Tuberculosis</th>\n",
       "      <th>Hospital_bed_Type-I</th>\n",
       "      <th>Hospital_bed_Type-II</th>\n",
       "      <th>Location_Latitude</th>\n",
       "      <th>Location_Longitude</th>\n",
       "      <th>Population_Female</th>\n",
       "      <th>Population_Male</th>\n",
       "      <th>Population_Total</th>\n",
       "    </tr>\n",
       "    <tr>\n",
       "      <th>Prefecture</th>\n",
       "      <th></th>\n",
       "      <th></th>\n",
       "      <th></th>\n",
       "      <th></th>\n",
       "      <th></th>\n",
       "      <th></th>\n",
       "      <th></th>\n",
       "      <th></th>\n",
       "      <th></th>\n",
       "      <th></th>\n",
       "      <th></th>\n",
       "      <th></th>\n",
       "      <th></th>\n",
       "      <th></th>\n",
       "      <th></th>\n",
       "      <th></th>\n",
       "      <th></th>\n",
       "      <th></th>\n",
       "    </tr>\n",
       "  </thead>\n",
       "  <tbody>\n",
       "    <tr>\n",
       "      <th>Aichi</th>\n",
       "      <td>Nagoya</td>\n",
       "      <td>23</td>\n",
       "      <td>Chubu</td>\n",
       "      <td>2988</td>\n",
       "      <td>5172</td>\n",
       "      <td>210</td>\n",
       "      <td>3663</td>\n",
       "      <td>14577</td>\n",
       "      <td>2</td>\n",
       "      <td>67109</td>\n",
       "      <td>136</td>\n",
       "      <td>2</td>\n",
       "      <td>68</td>\n",
       "      <td>35.180464</td>\n",
       "      <td>136.906705</td>\n",
       "      <td>3761</td>\n",
       "      <td>3764</td>\n",
       "      <td>7525</td>\n",
       "    </tr>\n",
       "    <tr>\n",
       "      <th>Akita</th>\n",
       "      <td>Akita</td>\n",
       "      <td>5</td>\n",
       "      <td>Tohoku</td>\n",
       "      <td>3204</td>\n",
       "      <td>11638</td>\n",
       "      <td>77</td>\n",
       "      <td>721</td>\n",
       "      <td>2035</td>\n",
       "      <td>0</td>\n",
       "      <td>14627</td>\n",
       "      <td>44</td>\n",
       "      <td>2</td>\n",
       "      <td>30</td>\n",
       "      <td>39.718353</td>\n",
       "      <td>140.103416</td>\n",
       "      <td>528</td>\n",
       "      <td>468</td>\n",
       "      <td>996</td>\n",
       "    </tr>\n",
       "    <tr>\n",
       "      <th>Aomori</th>\n",
       "      <td>Aomori</td>\n",
       "      <td>2</td>\n",
       "      <td>Tohoku</td>\n",
       "      <td>3230</td>\n",
       "      <td>9646</td>\n",
       "      <td>114</td>\n",
       "      <td>1906</td>\n",
       "      <td>2614</td>\n",
       "      <td>0</td>\n",
       "      <td>17075</td>\n",
       "      <td>33</td>\n",
       "      <td>1</td>\n",
       "      <td>28</td>\n",
       "      <td>40.824592</td>\n",
       "      <td>140.740031</td>\n",
       "      <td>678</td>\n",
       "      <td>600</td>\n",
       "      <td>1278</td>\n",
       "    </tr>\n",
       "    <tr>\n",
       "      <th>Chiba</th>\n",
       "      <td>Chiba</td>\n",
       "      <td>12</td>\n",
       "      <td>Kanto</td>\n",
       "      <td>3554</td>\n",
       "      <td>5158</td>\n",
       "      <td>115</td>\n",
       "      <td>2168</td>\n",
       "      <td>10587</td>\n",
       "      <td>2</td>\n",
       "      <td>59249</td>\n",
       "      <td>73</td>\n",
       "      <td>1</td>\n",
       "      <td>55</td>\n",
       "      <td>35.604757</td>\n",
       "      <td>140.123135</td>\n",
       "      <td>3143</td>\n",
       "      <td>3103</td>\n",
       "      <td>6246</td>\n",
       "    </tr>\n",
       "    <tr>\n",
       "      <th>Ehime</th>\n",
       "      <td>Matsuyama</td>\n",
       "      <td>38</td>\n",
       "      <td>Shikoku</td>\n",
       "      <td>1673</td>\n",
       "      <td>5676</td>\n",
       "      <td>257</td>\n",
       "      <td>2351</td>\n",
       "      <td>4574</td>\n",
       "      <td>0</td>\n",
       "      <td>21027</td>\n",
       "      <td>54</td>\n",
       "      <td>2</td>\n",
       "      <td>26</td>\n",
       "      <td>33.841878</td>\n",
       "      <td>132.765825</td>\n",
       "      <td>719</td>\n",
       "      <td>645</td>\n",
       "      <td>1364</td>\n",
       "    </tr>\n",
       "  </tbody>\n",
       "</table>\n",
       "</div>"
      ],
      "text/plain": [
       "Title      Admin_Capital Admin_Num Admin_Region Area_Habitable Area_Total  \\\n",
       "Prefecture                                                                  \n",
       "Aichi             Nagoya        23        Chubu           2988       5172   \n",
       "Akita              Akita         5       Tohoku           3204      11638   \n",
       "Aomori            Aomori         2       Tohoku           3230       9646   \n",
       "Chiba              Chiba        12        Kanto           3554       5158   \n",
       "Ehime          Matsuyama        38      Shikoku           1673       5676   \n",
       "\n",
       "Title      Clinic_bed_Care Clinic_bed_Total Hospital_bed_Care  \\\n",
       "Prefecture                                                      \n",
       "Aichi                  210             3663             14577   \n",
       "Akita                   77              721              2035   \n",
       "Aomori                 114             1906              2614   \n",
       "Chiba                  115             2168             10587   \n",
       "Ehime                  257             2351              4574   \n",
       "\n",
       "Title      Hospital_bed_Specific Hospital_bed_Total Hospital_bed_Tuberculosis  \\\n",
       "Prefecture                                                                      \n",
       "Aichi                          2              67109                       136   \n",
       "Akita                          0              14627                        44   \n",
       "Aomori                         0              17075                        33   \n",
       "Chiba                          2              59249                        73   \n",
       "Ehime                          0              21027                        54   \n",
       "\n",
       "Title      Hospital_bed_Type-I Hospital_bed_Type-II Location_Latitude  \\\n",
       "Prefecture                                                              \n",
       "Aichi                        2                   68         35.180464   \n",
       "Akita                        2                   30         39.718353   \n",
       "Aomori                       1                   28         40.824592   \n",
       "Chiba                        1                   55         35.604757   \n",
       "Ehime                        2                   26         33.841878   \n",
       "\n",
       "Title      Location_Longitude Population_Female Population_Male  \\\n",
       "Prefecture                                                        \n",
       "Aichi             136.906705               3761            3764   \n",
       "Akita             140.103416                528             468   \n",
       "Aomori            140.740031                678             600   \n",
       "Chiba             140.123135               3143            3103   \n",
       "Ehime             132.765825                719             645   \n",
       "\n",
       "Title      Population_Total  \n",
       "Prefecture                   \n",
       "Aichi                  7525  \n",
       "Akita                   996  \n",
       "Aomori                 1278  \n",
       "Chiba                  6246  \n",
       "Ehime                  1364  "
      ]
     },
     "execution_count": 44,
     "metadata": {},
     "output_type": "execute_result"
    }
   ],
   "source": [
    "# create a pivot_table with 3 features: Prefecture, Title and Value\n",
    "df_clean = df_clean.pivot_table(\n",
    "    index='Prefecture',\n",
    "    columns='Title',\n",
    "    values='Value',\n",
    "    aggfunc='last'\n",
    ")\n",
    "df_clean.head()"
   ]
  },
  {
   "cell_type": "code",
   "execution_count": 45,
   "id": "14db9a42",
   "metadata": {},
   "outputs": [],
   "source": [
    "# Convert some features to integer type\n",
    "cols = df_clean.columns.str.startswith(\"Population\")\n",
    "cols += df_clean.columns.str.startswith('Area')\n",
    "cols += df_clean.columns.str.startswith('Hospital_bed')\n",
    "cols += df_clean.columns.str.startswith('Clinic_bed')\n",
    "\n",
    "df_clean.loc[:,cols] = df_clean.loc[:, cols].astype(np.int64)\n",
    "\n",
    "# Convert some features to float type\n",
    "cols += df_clean.columns.str.startswith('Location')\n",
    "df_clean['Admin_Num'] = df_clean['Admin_Num'].astype(np.float64)"
   ]
  },
  {
   "cell_type": "markdown",
   "id": "f369af54",
   "metadata": {},
   "source": [
    "# Exploratory Data Analysis"
   ]
  },
  {
   "cell_type": "markdown",
   "id": "7f206d20",
   "metadata": {},
   "source": [
    "## Compare total population, area, population density of 47 prefectures"
   ]
  },
  {
   "cell_type": "code",
   "execution_count": 46,
   "id": "da1972aa",
   "metadata": {},
   "outputs": [],
   "source": [
    "# create a copy version of cleaned data\n",
    "df_pop = df_clean.copy()"
   ]
  },
  {
   "cell_type": "code",
   "execution_count": 47,
   "id": "0f8c9859",
   "metadata": {},
   "outputs": [],
   "source": [
    "# Add new 2 features: Density_All & Density_Habitable\n",
    "df_pop['Density_All'] = df_pop['Population_Total']/df_pop['Area_Total']\n",
    "df_pop['Density_Habitable'] = df_pop['Population_Total']/df_pop['Area_Habitable']"
   ]
  },
  {
   "cell_type": "code",
   "execution_count": 48,
   "id": "805a2dfa",
   "metadata": {},
   "outputs": [
    {
     "data": {
      "text/html": [
       "<div>\n",
       "<style scoped>\n",
       "    .dataframe tbody tr th:only-of-type {\n",
       "        vertical-align: middle;\n",
       "    }\n",
       "\n",
       "    .dataframe tbody tr th {\n",
       "        vertical-align: top;\n",
       "    }\n",
       "\n",
       "    .dataframe thead th {\n",
       "        text-align: right;\n",
       "    }\n",
       "</style>\n",
       "<table border=\"1\" class=\"dataframe\">\n",
       "  <thead>\n",
       "    <tr style=\"text-align: right;\">\n",
       "      <th>Title</th>\n",
       "      <th>Admin_Capital</th>\n",
       "      <th>Admin_Num</th>\n",
       "      <th>Admin_Region</th>\n",
       "      <th>Area_Habitable</th>\n",
       "      <th>Area_Total</th>\n",
       "      <th>Clinic_bed_Care</th>\n",
       "      <th>Clinic_bed_Total</th>\n",
       "      <th>Hospital_bed_Care</th>\n",
       "      <th>Hospital_bed_Specific</th>\n",
       "      <th>Hospital_bed_Total</th>\n",
       "      <th>Hospital_bed_Tuberculosis</th>\n",
       "      <th>Hospital_bed_Type-I</th>\n",
       "      <th>Hospital_bed_Type-II</th>\n",
       "      <th>Location_Latitude</th>\n",
       "      <th>Location_Longitude</th>\n",
       "      <th>Population_Female</th>\n",
       "      <th>Population_Male</th>\n",
       "      <th>Population_Total</th>\n",
       "      <th>Density_All</th>\n",
       "      <th>Density_Habitable</th>\n",
       "    </tr>\n",
       "    <tr>\n",
       "      <th>Prefecture</th>\n",
       "      <th></th>\n",
       "      <th></th>\n",
       "      <th></th>\n",
       "      <th></th>\n",
       "      <th></th>\n",
       "      <th></th>\n",
       "      <th></th>\n",
       "      <th></th>\n",
       "      <th></th>\n",
       "      <th></th>\n",
       "      <th></th>\n",
       "      <th></th>\n",
       "      <th></th>\n",
       "      <th></th>\n",
       "      <th></th>\n",
       "      <th></th>\n",
       "      <th></th>\n",
       "      <th></th>\n",
       "      <th></th>\n",
       "      <th></th>\n",
       "    </tr>\n",
       "  </thead>\n",
       "  <tbody>\n",
       "    <tr>\n",
       "      <th>Tokyo</th>\n",
       "      <td>Tokyo</td>\n",
       "      <td>13.0</td>\n",
       "      <td>Kanto</td>\n",
       "      <td>1418</td>\n",
       "      <td>2191</td>\n",
       "      <td>119</td>\n",
       "      <td>3645</td>\n",
       "      <td>23604</td>\n",
       "      <td>4</td>\n",
       "      <td>127373</td>\n",
       "      <td>412</td>\n",
       "      <td>8</td>\n",
       "      <td>106</td>\n",
       "      <td>35.689439</td>\n",
       "      <td>139.691643</td>\n",
       "      <td>6964</td>\n",
       "      <td>6760</td>\n",
       "      <td>13724</td>\n",
       "      <td>6.263806</td>\n",
       "      <td>9.67842</td>\n",
       "    </tr>\n",
       "    <tr>\n",
       "      <th>Osaka</th>\n",
       "      <td>Osaka</td>\n",
       "      <td>27.0</td>\n",
       "      <td>Kinki</td>\n",
       "      <td>1331</td>\n",
       "      <td>1905</td>\n",
       "      <td>44</td>\n",
       "      <td>2148</td>\n",
       "      <td>21124</td>\n",
       "      <td>2</td>\n",
       "      <td>105225</td>\n",
       "      <td>292</td>\n",
       "      <td>4</td>\n",
       "      <td>72</td>\n",
       "      <td>34.6830438</td>\n",
       "      <td>135.522548</td>\n",
       "      <td>4583</td>\n",
       "      <td>4241</td>\n",
       "      <td>8823</td>\n",
       "      <td>4.631496</td>\n",
       "      <td>6.62885</td>\n",
       "    </tr>\n",
       "    <tr>\n",
       "      <th>Kanagawa</th>\n",
       "      <td>Yokohama</td>\n",
       "      <td>14.0</td>\n",
       "      <td>Kanto</td>\n",
       "      <td>1471</td>\n",
       "      <td>2416</td>\n",
       "      <td>139</td>\n",
       "      <td>2308</td>\n",
       "      <td>13184</td>\n",
       "      <td>0</td>\n",
       "      <td>74006</td>\n",
       "      <td>166</td>\n",
       "      <td>2</td>\n",
       "      <td>72</td>\n",
       "      <td>35.447692</td>\n",
       "      <td>139.642323</td>\n",
       "      <td>4590</td>\n",
       "      <td>4569</td>\n",
       "      <td>9159</td>\n",
       "      <td>3.790977</td>\n",
       "      <td>6.226377</td>\n",
       "    </tr>\n",
       "    <tr>\n",
       "      <th>Saitama</th>\n",
       "      <td>Saitama</td>\n",
       "      <td>11.0</td>\n",
       "      <td>Kanto</td>\n",
       "      <td>2585</td>\n",
       "      <td>3798</td>\n",
       "      <td>34</td>\n",
       "      <td>2576</td>\n",
       "      <td>11449</td>\n",
       "      <td>0</td>\n",
       "      <td>62938</td>\n",
       "      <td>80</td>\n",
       "      <td>4</td>\n",
       "      <td>66</td>\n",
       "      <td>35.857944</td>\n",
       "      <td>139.648663</td>\n",
       "      <td>3662</td>\n",
       "      <td>3648</td>\n",
       "      <td>7310</td>\n",
       "      <td>1.924697</td>\n",
       "      <td>2.827853</td>\n",
       "    </tr>\n",
       "    <tr>\n",
       "      <th>Aichi</th>\n",
       "      <td>Nagoya</td>\n",
       "      <td>23.0</td>\n",
       "      <td>Chubu</td>\n",
       "      <td>2988</td>\n",
       "      <td>5172</td>\n",
       "      <td>210</td>\n",
       "      <td>3663</td>\n",
       "      <td>14577</td>\n",
       "      <td>2</td>\n",
       "      <td>67109</td>\n",
       "      <td>136</td>\n",
       "      <td>2</td>\n",
       "      <td>68</td>\n",
       "      <td>35.180464</td>\n",
       "      <td>136.906705</td>\n",
       "      <td>3761</td>\n",
       "      <td>3764</td>\n",
       "      <td>7525</td>\n",
       "      <td>1.45495</td>\n",
       "      <td>2.518407</td>\n",
       "    </tr>\n",
       "  </tbody>\n",
       "</table>\n",
       "</div>"
      ],
      "text/plain": [
       "Title      Admin_Capital  Admin_Num Admin_Region Area_Habitable Area_Total  \\\n",
       "Prefecture                                                                   \n",
       "Tokyo              Tokyo       13.0        Kanto           1418       2191   \n",
       "Osaka              Osaka       27.0        Kinki           1331       1905   \n",
       "Kanagawa        Yokohama       14.0        Kanto           1471       2416   \n",
       "Saitama          Saitama       11.0        Kanto           2585       3798   \n",
       "Aichi             Nagoya       23.0        Chubu           2988       5172   \n",
       "\n",
       "Title      Clinic_bed_Care Clinic_bed_Total Hospital_bed_Care  \\\n",
       "Prefecture                                                      \n",
       "Tokyo                  119             3645             23604   \n",
       "Osaka                   44             2148             21124   \n",
       "Kanagawa               139             2308             13184   \n",
       "Saitama                 34             2576             11449   \n",
       "Aichi                  210             3663             14577   \n",
       "\n",
       "Title      Hospital_bed_Specific Hospital_bed_Total Hospital_bed_Tuberculosis  \\\n",
       "Prefecture                                                                      \n",
       "Tokyo                          4             127373                       412   \n",
       "Osaka                          2             105225                       292   \n",
       "Kanagawa                       0              74006                       166   \n",
       "Saitama                        0              62938                        80   \n",
       "Aichi                          2              67109                       136   \n",
       "\n",
       "Title      Hospital_bed_Type-I Hospital_bed_Type-II Location_Latitude  \\\n",
       "Prefecture                                                              \n",
       "Tokyo                        8                  106         35.689439   \n",
       "Osaka                        4                   72        34.6830438   \n",
       "Kanagawa                     2                   72         35.447692   \n",
       "Saitama                      4                   66         35.857944   \n",
       "Aichi                        2                   68         35.180464   \n",
       "\n",
       "Title      Location_Longitude Population_Female Population_Male  \\\n",
       "Prefecture                                                        \n",
       "Tokyo             139.691643               6964            6760   \n",
       "Osaka             135.522548               4583            4241   \n",
       "Kanagawa          139.642323               4590            4569   \n",
       "Saitama           139.648663               3662            3648   \n",
       "Aichi             136.906705               3761            3764   \n",
       "\n",
       "Title      Population_Total Density_All Density_Habitable  \n",
       "Prefecture                                                 \n",
       "Tokyo                 13724    6.263806           9.67842  \n",
       "Osaka                  8823    4.631496           6.62885  \n",
       "Kanagawa               9159    3.790977          6.226377  \n",
       "Saitama                7310    1.924697          2.827853  \n",
       "Aichi                  7525     1.45495          2.518407  "
      ]
     },
     "execution_count": 48,
     "metadata": {},
     "output_type": "execute_result"
    }
   ],
   "source": [
    "# sort data by Density_Habitable feature value\n",
    "df_pop = df_pop.sort_values('Density_Habitable', ascending=False)\n",
    "\n",
    "# display 5 first samples\n",
    "df_pop.head()"
   ]
  },
  {
   "cell_type": "code",
   "execution_count": 49,
   "id": "2050b6f5",
   "metadata": {},
   "outputs": [
    {
     "data": {
      "application/vnd.plotly.v1+json": {
       "config": {
        "plotlyServerURL": "https://plot.ly"
       },
       "data": [
        {
         "name": "Density All",
         "offsetgroup": "0",
         "type": "bar",
         "x": [
          "Tokyo",
          "Osaka",
          "Kanagawa",
          "Saitama",
          "Aichi",
          "Kyoto",
          "Hyogo",
          "Fukuoka",
          "Chiba",
          "Nara",
          "Shizuoka",
          "Okinawa",
          "Hiroshima",
          "Shiga",
          "Kagawa",
          "Gifu",
          "Mie",
          "Yamanashi",
          "Gunma",
          "Okayama",
          "Wakayama",
          "Ishikawa",
          "Ehime",
          "Yamaguchi",
          "Nagasaki",
          "Miyagi",
          "Tokushima",
          "Ibaraki",
          "Fukui",
          "Tochigi",
          "Nagano",
          "Oita",
          "Kumamoto",
          "Tottori",
          "Saga",
          "Kochi",
          "Miyazaki",
          "Toyama",
          "Shimane",
          "Niigata",
          "Kagoshima",
          "Fukushima",
          "Aomori",
          "Yamagata",
          "Iwate",
          "Akita",
          "Hokkaido"
         ],
         "y": [
          6.263806481058877,
          4.631496062992126,
          3.790976821192053,
          1.9246972090573986,
          1.4549497293116782,
          0.563529921942758,
          0.6550410665396976,
          1.0242679502607301,
          1.2109344707250873,
          0.36521267949065295,
          0.47254725472547254,
          0.632617273125822,
          0.33364783582969687,
          0.35175504107542943,
          0.5151838039424613,
          0.18905941060163825,
          0.31174229303775547,
          0.18432250839865622,
          0.30807922037095253,
          0.2680252986647927,
          0.2,
          0.2740086000955566,
          0.24031007751937986,
          0.2262761780104712,
          0.3276863504356244,
          0.31900576764625105,
          0.17916566192428263,
          0.474331638510743,
          0.18591885441527448,
          0.3053995006242197,
          0.15307476773337267,
          0.18167481469799715,
          0.23822378188689433,
          0.16110635871114912,
          0.33756657107742727,
          0.10050675675675676,
          0.14078862314156432,
          0.24858757062146894,
          0.10211687537268932,
          0.18014939605848695,
          0.17698922390334168,
          0.1365351131746953,
          0.13249015135807587,
          0.11820229539847689,
          0.08216039279869067,
          0.08558171507131809,
          0.06377061756808593
         ]
        },
        {
         "name": "Density Habitable",
         "offsetgroup": "1",
         "type": "bar",
         "x": [
          "Tokyo",
          "Osaka",
          "Kanagawa",
          "Saitama",
          "Aichi",
          "Kyoto",
          "Hyogo",
          "Fukuoka",
          "Chiba",
          "Nara",
          "Shizuoka",
          "Okinawa",
          "Hiroshima",
          "Shiga",
          "Kagawa",
          "Gifu",
          "Mie",
          "Yamanashi",
          "Gunma",
          "Okayama",
          "Wakayama",
          "Ishikawa",
          "Ehime",
          "Yamaguchi",
          "Nagasaki",
          "Miyagi",
          "Tokushima",
          "Ibaraki",
          "Fukui",
          "Tochigi",
          "Nagano",
          "Oita",
          "Kumamoto",
          "Tottori",
          "Saga",
          "Kochi",
          "Miyazaki",
          "Toyama",
          "Shimane",
          "Niigata",
          "Kagoshima",
          "Fukushima",
          "Aomori",
          "Yamagata",
          "Iwate",
          "Akita",
          "Hokkaido"
         ],
         "y": [
          9.678420310296191,
          6.628850488354621,
          6.2263766145479265,
          2.827852998065764,
          2.5184069611780453,
          2.2137989778534926,
          1.9773625583902263,
          1.8496921405287938,
          1.7574563871693867,
          1.574766355140187,
          1.336849763550382,
          1.234388366124893,
          1.2241453916053657,
          1.0811017597551644,
          0.9612326043737575,
          0.9081863410221619,
          0.8742107819329772,
          0.8626834381551363,
          0.8600263273365512,
          0.8593961243803515,
          0.8475336322869955,
          0.8239942528735632,
          0.8153018529587567,
          0.8101933216168717,
          0.8078758949880668,
          0.7362916006339144,
          0.7356435643564356,
          0.7275471698113207,
          0.72330547818013,
          0.6560509554140127,
          0.643521388716677,
          0.6403557531962201,
          0.6312589413447782,
          0.6270810210876804,
          0.6167664670658682,
          0.6139294926913156,
          0.5886486486486486,
          0.5729788388497016,
          0.527328714395689,
          0.49988974641675854,
          0.49079384243887714,
          0.44628883092245675,
          0.3956656346749226,
          0.3819757365684575,
          0.3379106085083468,
          0.31086142322097376,
          0.23778661779823895
         ]
        }
       ],
       "layout": {
        "template": {
         "data": {
          "bar": [
           {
            "error_x": {
             "color": "#2a3f5f"
            },
            "error_y": {
             "color": "#2a3f5f"
            },
            "marker": {
             "line": {
              "color": "#E5ECF6",
              "width": 0.5
             },
             "pattern": {
              "fillmode": "overlay",
              "size": 10,
              "solidity": 0.2
             }
            },
            "type": "bar"
           }
          ],
          "barpolar": [
           {
            "marker": {
             "line": {
              "color": "#E5ECF6",
              "width": 0.5
             },
             "pattern": {
              "fillmode": "overlay",
              "size": 10,
              "solidity": 0.2
             }
            },
            "type": "barpolar"
           }
          ],
          "carpet": [
           {
            "aaxis": {
             "endlinecolor": "#2a3f5f",
             "gridcolor": "white",
             "linecolor": "white",
             "minorgridcolor": "white",
             "startlinecolor": "#2a3f5f"
            },
            "baxis": {
             "endlinecolor": "#2a3f5f",
             "gridcolor": "white",
             "linecolor": "white",
             "minorgridcolor": "white",
             "startlinecolor": "#2a3f5f"
            },
            "type": "carpet"
           }
          ],
          "choropleth": [
           {
            "colorbar": {
             "outlinewidth": 0,
             "ticks": ""
            },
            "type": "choropleth"
           }
          ],
          "contour": [
           {
            "colorbar": {
             "outlinewidth": 0,
             "ticks": ""
            },
            "colorscale": [
             [
              0,
              "#0d0887"
             ],
             [
              0.1111111111111111,
              "#46039f"
             ],
             [
              0.2222222222222222,
              "#7201a8"
             ],
             [
              0.3333333333333333,
              "#9c179e"
             ],
             [
              0.4444444444444444,
              "#bd3786"
             ],
             [
              0.5555555555555556,
              "#d8576b"
             ],
             [
              0.6666666666666666,
              "#ed7953"
             ],
             [
              0.7777777777777778,
              "#fb9f3a"
             ],
             [
              0.8888888888888888,
              "#fdca26"
             ],
             [
              1,
              "#f0f921"
             ]
            ],
            "type": "contour"
           }
          ],
          "contourcarpet": [
           {
            "colorbar": {
             "outlinewidth": 0,
             "ticks": ""
            },
            "type": "contourcarpet"
           }
          ],
          "heatmap": [
           {
            "colorbar": {
             "outlinewidth": 0,
             "ticks": ""
            },
            "colorscale": [
             [
              0,
              "#0d0887"
             ],
             [
              0.1111111111111111,
              "#46039f"
             ],
             [
              0.2222222222222222,
              "#7201a8"
             ],
             [
              0.3333333333333333,
              "#9c179e"
             ],
             [
              0.4444444444444444,
              "#bd3786"
             ],
             [
              0.5555555555555556,
              "#d8576b"
             ],
             [
              0.6666666666666666,
              "#ed7953"
             ],
             [
              0.7777777777777778,
              "#fb9f3a"
             ],
             [
              0.8888888888888888,
              "#fdca26"
             ],
             [
              1,
              "#f0f921"
             ]
            ],
            "type": "heatmap"
           }
          ],
          "heatmapgl": [
           {
            "colorbar": {
             "outlinewidth": 0,
             "ticks": ""
            },
            "colorscale": [
             [
              0,
              "#0d0887"
             ],
             [
              0.1111111111111111,
              "#46039f"
             ],
             [
              0.2222222222222222,
              "#7201a8"
             ],
             [
              0.3333333333333333,
              "#9c179e"
             ],
             [
              0.4444444444444444,
              "#bd3786"
             ],
             [
              0.5555555555555556,
              "#d8576b"
             ],
             [
              0.6666666666666666,
              "#ed7953"
             ],
             [
              0.7777777777777778,
              "#fb9f3a"
             ],
             [
              0.8888888888888888,
              "#fdca26"
             ],
             [
              1,
              "#f0f921"
             ]
            ],
            "type": "heatmapgl"
           }
          ],
          "histogram": [
           {
            "marker": {
             "pattern": {
              "fillmode": "overlay",
              "size": 10,
              "solidity": 0.2
             }
            },
            "type": "histogram"
           }
          ],
          "histogram2d": [
           {
            "colorbar": {
             "outlinewidth": 0,
             "ticks": ""
            },
            "colorscale": [
             [
              0,
              "#0d0887"
             ],
             [
              0.1111111111111111,
              "#46039f"
             ],
             [
              0.2222222222222222,
              "#7201a8"
             ],
             [
              0.3333333333333333,
              "#9c179e"
             ],
             [
              0.4444444444444444,
              "#bd3786"
             ],
             [
              0.5555555555555556,
              "#d8576b"
             ],
             [
              0.6666666666666666,
              "#ed7953"
             ],
             [
              0.7777777777777778,
              "#fb9f3a"
             ],
             [
              0.8888888888888888,
              "#fdca26"
             ],
             [
              1,
              "#f0f921"
             ]
            ],
            "type": "histogram2d"
           }
          ],
          "histogram2dcontour": [
           {
            "colorbar": {
             "outlinewidth": 0,
             "ticks": ""
            },
            "colorscale": [
             [
              0,
              "#0d0887"
             ],
             [
              0.1111111111111111,
              "#46039f"
             ],
             [
              0.2222222222222222,
              "#7201a8"
             ],
             [
              0.3333333333333333,
              "#9c179e"
             ],
             [
              0.4444444444444444,
              "#bd3786"
             ],
             [
              0.5555555555555556,
              "#d8576b"
             ],
             [
              0.6666666666666666,
              "#ed7953"
             ],
             [
              0.7777777777777778,
              "#fb9f3a"
             ],
             [
              0.8888888888888888,
              "#fdca26"
             ],
             [
              1,
              "#f0f921"
             ]
            ],
            "type": "histogram2dcontour"
           }
          ],
          "mesh3d": [
           {
            "colorbar": {
             "outlinewidth": 0,
             "ticks": ""
            },
            "type": "mesh3d"
           }
          ],
          "parcoords": [
           {
            "line": {
             "colorbar": {
              "outlinewidth": 0,
              "ticks": ""
             }
            },
            "type": "parcoords"
           }
          ],
          "pie": [
           {
            "automargin": true,
            "type": "pie"
           }
          ],
          "scatter": [
           {
            "marker": {
             "colorbar": {
              "outlinewidth": 0,
              "ticks": ""
             }
            },
            "type": "scatter"
           }
          ],
          "scatter3d": [
           {
            "line": {
             "colorbar": {
              "outlinewidth": 0,
              "ticks": ""
             }
            },
            "marker": {
             "colorbar": {
              "outlinewidth": 0,
              "ticks": ""
             }
            },
            "type": "scatter3d"
           }
          ],
          "scattercarpet": [
           {
            "marker": {
             "colorbar": {
              "outlinewidth": 0,
              "ticks": ""
             }
            },
            "type": "scattercarpet"
           }
          ],
          "scattergeo": [
           {
            "marker": {
             "colorbar": {
              "outlinewidth": 0,
              "ticks": ""
             }
            },
            "type": "scattergeo"
           }
          ],
          "scattergl": [
           {
            "marker": {
             "colorbar": {
              "outlinewidth": 0,
              "ticks": ""
             }
            },
            "type": "scattergl"
           }
          ],
          "scattermapbox": [
           {
            "marker": {
             "colorbar": {
              "outlinewidth": 0,
              "ticks": ""
             }
            },
            "type": "scattermapbox"
           }
          ],
          "scatterpolar": [
           {
            "marker": {
             "colorbar": {
              "outlinewidth": 0,
              "ticks": ""
             }
            },
            "type": "scatterpolar"
           }
          ],
          "scatterpolargl": [
           {
            "marker": {
             "colorbar": {
              "outlinewidth": 0,
              "ticks": ""
             }
            },
            "type": "scatterpolargl"
           }
          ],
          "scatterternary": [
           {
            "marker": {
             "colorbar": {
              "outlinewidth": 0,
              "ticks": ""
             }
            },
            "type": "scatterternary"
           }
          ],
          "surface": [
           {
            "colorbar": {
             "outlinewidth": 0,
             "ticks": ""
            },
            "colorscale": [
             [
              0,
              "#0d0887"
             ],
             [
              0.1111111111111111,
              "#46039f"
             ],
             [
              0.2222222222222222,
              "#7201a8"
             ],
             [
              0.3333333333333333,
              "#9c179e"
             ],
             [
              0.4444444444444444,
              "#bd3786"
             ],
             [
              0.5555555555555556,
              "#d8576b"
             ],
             [
              0.6666666666666666,
              "#ed7953"
             ],
             [
              0.7777777777777778,
              "#fb9f3a"
             ],
             [
              0.8888888888888888,
              "#fdca26"
             ],
             [
              1,
              "#f0f921"
             ]
            ],
            "type": "surface"
           }
          ],
          "table": [
           {
            "cells": {
             "fill": {
              "color": "#EBF0F8"
             },
             "line": {
              "color": "white"
             }
            },
            "header": {
             "fill": {
              "color": "#C8D4E3"
             },
             "line": {
              "color": "white"
             }
            },
            "type": "table"
           }
          ]
         },
         "layout": {
          "annotationdefaults": {
           "arrowcolor": "#2a3f5f",
           "arrowhead": 0,
           "arrowwidth": 1
          },
          "autotypenumbers": "strict",
          "coloraxis": {
           "colorbar": {
            "outlinewidth": 0,
            "ticks": ""
           }
          },
          "colorscale": {
           "diverging": [
            [
             0,
             "#8e0152"
            ],
            [
             0.1,
             "#c51b7d"
            ],
            [
             0.2,
             "#de77ae"
            ],
            [
             0.3,
             "#f1b6da"
            ],
            [
             0.4,
             "#fde0ef"
            ],
            [
             0.5,
             "#f7f7f7"
            ],
            [
             0.6,
             "#e6f5d0"
            ],
            [
             0.7,
             "#b8e186"
            ],
            [
             0.8,
             "#7fbc41"
            ],
            [
             0.9,
             "#4d9221"
            ],
            [
             1,
             "#276419"
            ]
           ],
           "sequential": [
            [
             0,
             "#0d0887"
            ],
            [
             0.1111111111111111,
             "#46039f"
            ],
            [
             0.2222222222222222,
             "#7201a8"
            ],
            [
             0.3333333333333333,
             "#9c179e"
            ],
            [
             0.4444444444444444,
             "#bd3786"
            ],
            [
             0.5555555555555556,
             "#d8576b"
            ],
            [
             0.6666666666666666,
             "#ed7953"
            ],
            [
             0.7777777777777778,
             "#fb9f3a"
            ],
            [
             0.8888888888888888,
             "#fdca26"
            ],
            [
             1,
             "#f0f921"
            ]
           ],
           "sequentialminus": [
            [
             0,
             "#0d0887"
            ],
            [
             0.1111111111111111,
             "#46039f"
            ],
            [
             0.2222222222222222,
             "#7201a8"
            ],
            [
             0.3333333333333333,
             "#9c179e"
            ],
            [
             0.4444444444444444,
             "#bd3786"
            ],
            [
             0.5555555555555556,
             "#d8576b"
            ],
            [
             0.6666666666666666,
             "#ed7953"
            ],
            [
             0.7777777777777778,
             "#fb9f3a"
            ],
            [
             0.8888888888888888,
             "#fdca26"
            ],
            [
             1,
             "#f0f921"
            ]
           ]
          },
          "colorway": [
           "#636efa",
           "#EF553B",
           "#00cc96",
           "#ab63fa",
           "#FFA15A",
           "#19d3f3",
           "#FF6692",
           "#B6E880",
           "#FF97FF",
           "#FECB52"
          ],
          "font": {
           "color": "#2a3f5f"
          },
          "geo": {
           "bgcolor": "white",
           "lakecolor": "white",
           "landcolor": "#E5ECF6",
           "showlakes": true,
           "showland": true,
           "subunitcolor": "white"
          },
          "hoverlabel": {
           "align": "left"
          },
          "hovermode": "closest",
          "mapbox": {
           "style": "light"
          },
          "paper_bgcolor": "white",
          "plot_bgcolor": "#E5ECF6",
          "polar": {
           "angularaxis": {
            "gridcolor": "white",
            "linecolor": "white",
            "ticks": ""
           },
           "bgcolor": "#E5ECF6",
           "radialaxis": {
            "gridcolor": "white",
            "linecolor": "white",
            "ticks": ""
           }
          },
          "scene": {
           "xaxis": {
            "backgroundcolor": "#E5ECF6",
            "gridcolor": "white",
            "gridwidth": 2,
            "linecolor": "white",
            "showbackground": true,
            "ticks": "",
            "zerolinecolor": "white"
           },
           "yaxis": {
            "backgroundcolor": "#E5ECF6",
            "gridcolor": "white",
            "gridwidth": 2,
            "linecolor": "white",
            "showbackground": true,
            "ticks": "",
            "zerolinecolor": "white"
           },
           "zaxis": {
            "backgroundcolor": "#E5ECF6",
            "gridcolor": "white",
            "gridwidth": 2,
            "linecolor": "white",
            "showbackground": true,
            "ticks": "",
            "zerolinecolor": "white"
           }
          },
          "shapedefaults": {
           "line": {
            "color": "#2a3f5f"
           }
          },
          "ternary": {
           "aaxis": {
            "gridcolor": "white",
            "linecolor": "white",
            "ticks": ""
           },
           "baxis": {
            "gridcolor": "white",
            "linecolor": "white",
            "ticks": ""
           },
           "bgcolor": "#E5ECF6",
           "caxis": {
            "gridcolor": "white",
            "linecolor": "white",
            "ticks": ""
           }
          },
          "title": {
           "x": 0.05
          },
          "xaxis": {
           "automargin": true,
           "gridcolor": "white",
           "linecolor": "white",
           "ticks": "",
           "title": {
            "standoff": 15
           },
           "zerolinecolor": "white",
           "zerolinewidth": 2
          },
          "yaxis": {
           "automargin": true,
           "gridcolor": "white",
           "linecolor": "white",
           "ticks": "",
           "title": {
            "standoff": 15
           },
           "zerolinecolor": "white",
           "zerolinewidth": 2
          }
         }
        },
        "title": {
         "text": "Compare population density of 47 prefectures"
        },
        "xaxis": {
         "title": {
          "text": "Prefectures"
         }
        },
        "yaxis": {
         "title": {
          "text": "Density Value"
         }
        }
       }
      },
      "text/html": [
       "<div>                            <div id=\"f0ae5d4b-3138-410b-b227-3584d90ed763\" class=\"plotly-graph-div\" style=\"height:525px; width:100%;\"></div>            <script type=\"text/javascript\">                require([\"plotly\"], function(Plotly) {                    window.PLOTLYENV=window.PLOTLYENV || {};                                    if (document.getElementById(\"f0ae5d4b-3138-410b-b227-3584d90ed763\")) {                    Plotly.newPlot(                        \"f0ae5d4b-3138-410b-b227-3584d90ed763\",                        [{\"name\":\"Density All\",\"offsetgroup\":\"0\",\"type\":\"bar\",\"x\":[\"Tokyo\",\"Osaka\",\"Kanagawa\",\"Saitama\",\"Aichi\",\"Kyoto\",\"Hyogo\",\"Fukuoka\",\"Chiba\",\"Nara\",\"Shizuoka\",\"Okinawa\",\"Hiroshima\",\"Shiga\",\"Kagawa\",\"Gifu\",\"Mie\",\"Yamanashi\",\"Gunma\",\"Okayama\",\"Wakayama\",\"Ishikawa\",\"Ehime\",\"Yamaguchi\",\"Nagasaki\",\"Miyagi\",\"Tokushima\",\"Ibaraki\",\"Fukui\",\"Tochigi\",\"Nagano\",\"Oita\",\"Kumamoto\",\"Tottori\",\"Saga\",\"Kochi\",\"Miyazaki\",\"Toyama\",\"Shimane\",\"Niigata\",\"Kagoshima\",\"Fukushima\",\"Aomori\",\"Yamagata\",\"Iwate\",\"Akita\",\"Hokkaido\"],\"y\":[6.263806481058877,4.631496062992126,3.790976821192053,1.9246972090573986,1.4549497293116782,0.563529921942758,0.6550410665396976,1.0242679502607301,1.2109344707250873,0.36521267949065295,0.47254725472547254,0.632617273125822,0.33364783582969687,0.35175504107542943,0.5151838039424613,0.18905941060163825,0.31174229303775547,0.18432250839865622,0.30807922037095253,0.2680252986647927,0.2,0.2740086000955566,0.24031007751937986,0.2262761780104712,0.3276863504356244,0.31900576764625105,0.17916566192428263,0.474331638510743,0.18591885441527448,0.3053995006242197,0.15307476773337267,0.18167481469799715,0.23822378188689433,0.16110635871114912,0.33756657107742727,0.10050675675675676,0.14078862314156432,0.24858757062146894,0.10211687537268932,0.18014939605848695,0.17698922390334168,0.1365351131746953,0.13249015135807587,0.11820229539847689,0.08216039279869067,0.08558171507131809,0.06377061756808593]},{\"name\":\"Density Habitable\",\"offsetgroup\":\"1\",\"type\":\"bar\",\"x\":[\"Tokyo\",\"Osaka\",\"Kanagawa\",\"Saitama\",\"Aichi\",\"Kyoto\",\"Hyogo\",\"Fukuoka\",\"Chiba\",\"Nara\",\"Shizuoka\",\"Okinawa\",\"Hiroshima\",\"Shiga\",\"Kagawa\",\"Gifu\",\"Mie\",\"Yamanashi\",\"Gunma\",\"Okayama\",\"Wakayama\",\"Ishikawa\",\"Ehime\",\"Yamaguchi\",\"Nagasaki\",\"Miyagi\",\"Tokushima\",\"Ibaraki\",\"Fukui\",\"Tochigi\",\"Nagano\",\"Oita\",\"Kumamoto\",\"Tottori\",\"Saga\",\"Kochi\",\"Miyazaki\",\"Toyama\",\"Shimane\",\"Niigata\",\"Kagoshima\",\"Fukushima\",\"Aomori\",\"Yamagata\",\"Iwate\",\"Akita\",\"Hokkaido\"],\"y\":[9.678420310296191,6.628850488354621,6.2263766145479265,2.827852998065764,2.5184069611780453,2.2137989778534926,1.9773625583902263,1.8496921405287938,1.7574563871693867,1.574766355140187,1.336849763550382,1.234388366124893,1.2241453916053657,1.0811017597551644,0.9612326043737575,0.9081863410221619,0.8742107819329772,0.8626834381551363,0.8600263273365512,0.8593961243803515,0.8475336322869955,0.8239942528735632,0.8153018529587567,0.8101933216168717,0.8078758949880668,0.7362916006339144,0.7356435643564356,0.7275471698113207,0.72330547818013,0.6560509554140127,0.643521388716677,0.6403557531962201,0.6312589413447782,0.6270810210876804,0.6167664670658682,0.6139294926913156,0.5886486486486486,0.5729788388497016,0.527328714395689,0.49988974641675854,0.49079384243887714,0.44628883092245675,0.3956656346749226,0.3819757365684575,0.3379106085083468,0.31086142322097376,0.23778661779823895]}],                        {\"template\":{\"data\":{\"bar\":[{\"error_x\":{\"color\":\"#2a3f5f\"},\"error_y\":{\"color\":\"#2a3f5f\"},\"marker\":{\"line\":{\"color\":\"#E5ECF6\",\"width\":0.5},\"pattern\":{\"fillmode\":\"overlay\",\"size\":10,\"solidity\":0.2}},\"type\":\"bar\"}],\"barpolar\":[{\"marker\":{\"line\":{\"color\":\"#E5ECF6\",\"width\":0.5},\"pattern\":{\"fillmode\":\"overlay\",\"size\":10,\"solidity\":0.2}},\"type\":\"barpolar\"}],\"carpet\":[{\"aaxis\":{\"endlinecolor\":\"#2a3f5f\",\"gridcolor\":\"white\",\"linecolor\":\"white\",\"minorgridcolor\":\"white\",\"startlinecolor\":\"#2a3f5f\"},\"baxis\":{\"endlinecolor\":\"#2a3f5f\",\"gridcolor\":\"white\",\"linecolor\":\"white\",\"minorgridcolor\":\"white\",\"startlinecolor\":\"#2a3f5f\"},\"type\":\"carpet\"}],\"choropleth\":[{\"colorbar\":{\"outlinewidth\":0,\"ticks\":\"\"},\"type\":\"choropleth\"}],\"contour\":[{\"colorbar\":{\"outlinewidth\":0,\"ticks\":\"\"},\"colorscale\":[[0.0,\"#0d0887\"],[0.1111111111111111,\"#46039f\"],[0.2222222222222222,\"#7201a8\"],[0.3333333333333333,\"#9c179e\"],[0.4444444444444444,\"#bd3786\"],[0.5555555555555556,\"#d8576b\"],[0.6666666666666666,\"#ed7953\"],[0.7777777777777778,\"#fb9f3a\"],[0.8888888888888888,\"#fdca26\"],[1.0,\"#f0f921\"]],\"type\":\"contour\"}],\"contourcarpet\":[{\"colorbar\":{\"outlinewidth\":0,\"ticks\":\"\"},\"type\":\"contourcarpet\"}],\"heatmap\":[{\"colorbar\":{\"outlinewidth\":0,\"ticks\":\"\"},\"colorscale\":[[0.0,\"#0d0887\"],[0.1111111111111111,\"#46039f\"],[0.2222222222222222,\"#7201a8\"],[0.3333333333333333,\"#9c179e\"],[0.4444444444444444,\"#bd3786\"],[0.5555555555555556,\"#d8576b\"],[0.6666666666666666,\"#ed7953\"],[0.7777777777777778,\"#fb9f3a\"],[0.8888888888888888,\"#fdca26\"],[1.0,\"#f0f921\"]],\"type\":\"heatmap\"}],\"heatmapgl\":[{\"colorbar\":{\"outlinewidth\":0,\"ticks\":\"\"},\"colorscale\":[[0.0,\"#0d0887\"],[0.1111111111111111,\"#46039f\"],[0.2222222222222222,\"#7201a8\"],[0.3333333333333333,\"#9c179e\"],[0.4444444444444444,\"#bd3786\"],[0.5555555555555556,\"#d8576b\"],[0.6666666666666666,\"#ed7953\"],[0.7777777777777778,\"#fb9f3a\"],[0.8888888888888888,\"#fdca26\"],[1.0,\"#f0f921\"]],\"type\":\"heatmapgl\"}],\"histogram\":[{\"marker\":{\"pattern\":{\"fillmode\":\"overlay\",\"size\":10,\"solidity\":0.2}},\"type\":\"histogram\"}],\"histogram2d\":[{\"colorbar\":{\"outlinewidth\":0,\"ticks\":\"\"},\"colorscale\":[[0.0,\"#0d0887\"],[0.1111111111111111,\"#46039f\"],[0.2222222222222222,\"#7201a8\"],[0.3333333333333333,\"#9c179e\"],[0.4444444444444444,\"#bd3786\"],[0.5555555555555556,\"#d8576b\"],[0.6666666666666666,\"#ed7953\"],[0.7777777777777778,\"#fb9f3a\"],[0.8888888888888888,\"#fdca26\"],[1.0,\"#f0f921\"]],\"type\":\"histogram2d\"}],\"histogram2dcontour\":[{\"colorbar\":{\"outlinewidth\":0,\"ticks\":\"\"},\"colorscale\":[[0.0,\"#0d0887\"],[0.1111111111111111,\"#46039f\"],[0.2222222222222222,\"#7201a8\"],[0.3333333333333333,\"#9c179e\"],[0.4444444444444444,\"#bd3786\"],[0.5555555555555556,\"#d8576b\"],[0.6666666666666666,\"#ed7953\"],[0.7777777777777778,\"#fb9f3a\"],[0.8888888888888888,\"#fdca26\"],[1.0,\"#f0f921\"]],\"type\":\"histogram2dcontour\"}],\"mesh3d\":[{\"colorbar\":{\"outlinewidth\":0,\"ticks\":\"\"},\"type\":\"mesh3d\"}],\"parcoords\":[{\"line\":{\"colorbar\":{\"outlinewidth\":0,\"ticks\":\"\"}},\"type\":\"parcoords\"}],\"pie\":[{\"automargin\":true,\"type\":\"pie\"}],\"scatter\":[{\"marker\":{\"colorbar\":{\"outlinewidth\":0,\"ticks\":\"\"}},\"type\":\"scatter\"}],\"scatter3d\":[{\"line\":{\"colorbar\":{\"outlinewidth\":0,\"ticks\":\"\"}},\"marker\":{\"colorbar\":{\"outlinewidth\":0,\"ticks\":\"\"}},\"type\":\"scatter3d\"}],\"scattercarpet\":[{\"marker\":{\"colorbar\":{\"outlinewidth\":0,\"ticks\":\"\"}},\"type\":\"scattercarpet\"}],\"scattergeo\":[{\"marker\":{\"colorbar\":{\"outlinewidth\":0,\"ticks\":\"\"}},\"type\":\"scattergeo\"}],\"scattergl\":[{\"marker\":{\"colorbar\":{\"outlinewidth\":0,\"ticks\":\"\"}},\"type\":\"scattergl\"}],\"scattermapbox\":[{\"marker\":{\"colorbar\":{\"outlinewidth\":0,\"ticks\":\"\"}},\"type\":\"scattermapbox\"}],\"scatterpolar\":[{\"marker\":{\"colorbar\":{\"outlinewidth\":0,\"ticks\":\"\"}},\"type\":\"scatterpolar\"}],\"scatterpolargl\":[{\"marker\":{\"colorbar\":{\"outlinewidth\":0,\"ticks\":\"\"}},\"type\":\"scatterpolargl\"}],\"scatterternary\":[{\"marker\":{\"colorbar\":{\"outlinewidth\":0,\"ticks\":\"\"}},\"type\":\"scatterternary\"}],\"surface\":[{\"colorbar\":{\"outlinewidth\":0,\"ticks\":\"\"},\"colorscale\":[[0.0,\"#0d0887\"],[0.1111111111111111,\"#46039f\"],[0.2222222222222222,\"#7201a8\"],[0.3333333333333333,\"#9c179e\"],[0.4444444444444444,\"#bd3786\"],[0.5555555555555556,\"#d8576b\"],[0.6666666666666666,\"#ed7953\"],[0.7777777777777778,\"#fb9f3a\"],[0.8888888888888888,\"#fdca26\"],[1.0,\"#f0f921\"]],\"type\":\"surface\"}],\"table\":[{\"cells\":{\"fill\":{\"color\":\"#EBF0F8\"},\"line\":{\"color\":\"white\"}},\"header\":{\"fill\":{\"color\":\"#C8D4E3\"},\"line\":{\"color\":\"white\"}},\"type\":\"table\"}]},\"layout\":{\"annotationdefaults\":{\"arrowcolor\":\"#2a3f5f\",\"arrowhead\":0,\"arrowwidth\":1},\"autotypenumbers\":\"strict\",\"coloraxis\":{\"colorbar\":{\"outlinewidth\":0,\"ticks\":\"\"}},\"colorscale\":{\"diverging\":[[0,\"#8e0152\"],[0.1,\"#c51b7d\"],[0.2,\"#de77ae\"],[0.3,\"#f1b6da\"],[0.4,\"#fde0ef\"],[0.5,\"#f7f7f7\"],[0.6,\"#e6f5d0\"],[0.7,\"#b8e186\"],[0.8,\"#7fbc41\"],[0.9,\"#4d9221\"],[1,\"#276419\"]],\"sequential\":[[0.0,\"#0d0887\"],[0.1111111111111111,\"#46039f\"],[0.2222222222222222,\"#7201a8\"],[0.3333333333333333,\"#9c179e\"],[0.4444444444444444,\"#bd3786\"],[0.5555555555555556,\"#d8576b\"],[0.6666666666666666,\"#ed7953\"],[0.7777777777777778,\"#fb9f3a\"],[0.8888888888888888,\"#fdca26\"],[1.0,\"#f0f921\"]],\"sequentialminus\":[[0.0,\"#0d0887\"],[0.1111111111111111,\"#46039f\"],[0.2222222222222222,\"#7201a8\"],[0.3333333333333333,\"#9c179e\"],[0.4444444444444444,\"#bd3786\"],[0.5555555555555556,\"#d8576b\"],[0.6666666666666666,\"#ed7953\"],[0.7777777777777778,\"#fb9f3a\"],[0.8888888888888888,\"#fdca26\"],[1.0,\"#f0f921\"]]},\"colorway\":[\"#636efa\",\"#EF553B\",\"#00cc96\",\"#ab63fa\",\"#FFA15A\",\"#19d3f3\",\"#FF6692\",\"#B6E880\",\"#FF97FF\",\"#FECB52\"],\"font\":{\"color\":\"#2a3f5f\"},\"geo\":{\"bgcolor\":\"white\",\"lakecolor\":\"white\",\"landcolor\":\"#E5ECF6\",\"showlakes\":true,\"showland\":true,\"subunitcolor\":\"white\"},\"hoverlabel\":{\"align\":\"left\"},\"hovermode\":\"closest\",\"mapbox\":{\"style\":\"light\"},\"paper_bgcolor\":\"white\",\"plot_bgcolor\":\"#E5ECF6\",\"polar\":{\"angularaxis\":{\"gridcolor\":\"white\",\"linecolor\":\"white\",\"ticks\":\"\"},\"bgcolor\":\"#E5ECF6\",\"radialaxis\":{\"gridcolor\":\"white\",\"linecolor\":\"white\",\"ticks\":\"\"}},\"scene\":{\"xaxis\":{\"backgroundcolor\":\"#E5ECF6\",\"gridcolor\":\"white\",\"gridwidth\":2,\"linecolor\":\"white\",\"showbackground\":true,\"ticks\":\"\",\"zerolinecolor\":\"white\"},\"yaxis\":{\"backgroundcolor\":\"#E5ECF6\",\"gridcolor\":\"white\",\"gridwidth\":2,\"linecolor\":\"white\",\"showbackground\":true,\"ticks\":\"\",\"zerolinecolor\":\"white\"},\"zaxis\":{\"backgroundcolor\":\"#E5ECF6\",\"gridcolor\":\"white\",\"gridwidth\":2,\"linecolor\":\"white\",\"showbackground\":true,\"ticks\":\"\",\"zerolinecolor\":\"white\"}},\"shapedefaults\":{\"line\":{\"color\":\"#2a3f5f\"}},\"ternary\":{\"aaxis\":{\"gridcolor\":\"white\",\"linecolor\":\"white\",\"ticks\":\"\"},\"baxis\":{\"gridcolor\":\"white\",\"linecolor\":\"white\",\"ticks\":\"\"},\"bgcolor\":\"#E5ECF6\",\"caxis\":{\"gridcolor\":\"white\",\"linecolor\":\"white\",\"ticks\":\"\"}},\"title\":{\"x\":0.05},\"xaxis\":{\"automargin\":true,\"gridcolor\":\"white\",\"linecolor\":\"white\",\"ticks\":\"\",\"title\":{\"standoff\":15},\"zerolinecolor\":\"white\",\"zerolinewidth\":2},\"yaxis\":{\"automargin\":true,\"gridcolor\":\"white\",\"linecolor\":\"white\",\"ticks\":\"\",\"title\":{\"standoff\":15},\"zerolinecolor\":\"white\",\"zerolinewidth\":2}}},\"title\":{\"text\":\"Compare population density of 47 prefectures\"},\"xaxis\":{\"title\":{\"text\":\"Prefectures\"}},\"yaxis\":{\"title\":{\"text\":\"Density Value\"}}},                        {\"responsive\": true}                    ).then(function(){\n",
       "                            \n",
       "var gd = document.getElementById('f0ae5d4b-3138-410b-b227-3584d90ed763');\n",
       "var x = new MutationObserver(function (mutations, observer) {{\n",
       "        var display = window.getComputedStyle(gd).display;\n",
       "        if (!display || display === 'none') {{\n",
       "            console.log([gd, 'removed!']);\n",
       "            Plotly.purge(gd);\n",
       "            observer.disconnect();\n",
       "        }}\n",
       "}});\n",
       "\n",
       "// Listen for the removal of the full notebook cells\n",
       "var notebookContainer = gd.closest('#notebook-container');\n",
       "if (notebookContainer) {{\n",
       "    x.observe(notebookContainer, {childList: true});\n",
       "}}\n",
       "\n",
       "// Listen for the clearing of the current output cell\n",
       "var outputEl = gd.closest('.output');\n",
       "if (outputEl) {{\n",
       "    x.observe(outputEl, {childList: true});\n",
       "}}\n",
       "\n",
       "                        })                };                });            </script>        </div>"
      ]
     },
     "metadata": {},
     "output_type": "display_data"
    }
   ],
   "source": [
    "# draw group bar chart\n",
    "fig = go.Figure(\n",
    "    data=[\n",
    "        go.Bar(\n",
    "            name=\"Density All\",\n",
    "            x=df_pop.index,\n",
    "            y=df_pop['Density_All'],\n",
    "            offsetgroup=0,\n",
    "        ),\n",
    "        go.Bar(\n",
    "            name=\"Density Habitable\",\n",
    "            x=df_pop.index,\n",
    "            y=df_pop['Density_Habitable'],\n",
    "            offsetgroup=1,\n",
    "        ),\n",
    "    ],\n",
    "    layout=go.Layout(\n",
    "        title=\"Compare population density of 47 prefectures\",\n",
    "        yaxis_title=\"Density Value\",\n",
    "        xaxis_title=\"Prefectures\"\n",
    "    )\n",
    ")\n",
    "fig.show()"
   ]
  },
  {
   "cell_type": "markdown",
   "id": "519cf5b5",
   "metadata": {},
   "source": [
    "## Compare number of beds in hospital and clinics"
   ]
  },
  {
   "cell_type": "code",
   "execution_count": 50,
   "id": "d08eea06",
   "metadata": {},
   "outputs": [],
   "source": [
    "# create a copy version of cleaned data\n",
    "df_hop = df_clean.copy()"
   ]
  },
  {
   "cell_type": "code",
   "execution_count": 51,
   "id": "f524a152",
   "metadata": {},
   "outputs": [
    {
     "data": {
      "text/html": [
       "<div>\n",
       "<style scoped>\n",
       "    .dataframe tbody tr th:only-of-type {\n",
       "        vertical-align: middle;\n",
       "    }\n",
       "\n",
       "    .dataframe tbody tr th {\n",
       "        vertical-align: top;\n",
       "    }\n",
       "\n",
       "    .dataframe thead th {\n",
       "        text-align: right;\n",
       "    }\n",
       "</style>\n",
       "<table border=\"1\" class=\"dataframe\">\n",
       "  <thead>\n",
       "    <tr style=\"text-align: right;\">\n",
       "      <th>Title</th>\n",
       "      <th>Admin_Capital</th>\n",
       "      <th>Admin_Num</th>\n",
       "      <th>Admin_Region</th>\n",
       "      <th>Area_Habitable</th>\n",
       "      <th>Area_Total</th>\n",
       "      <th>Clinic_bed_Care</th>\n",
       "      <th>Clinic_bed_Total</th>\n",
       "      <th>Hospital_bed_Care</th>\n",
       "      <th>Hospital_bed_Specific</th>\n",
       "      <th>Hospital_bed_Total</th>\n",
       "      <th>Hospital_bed_Tuberculosis</th>\n",
       "      <th>Hospital_bed_Type-I</th>\n",
       "      <th>Hospital_bed_Type-II</th>\n",
       "      <th>Location_Latitude</th>\n",
       "      <th>Location_Longitude</th>\n",
       "      <th>Population_Female</th>\n",
       "      <th>Population_Male</th>\n",
       "      <th>Population_Total</th>\n",
       "      <th>Bed_For_Severe</th>\n",
       "      <th>Bed_For_Other</th>\n",
       "    </tr>\n",
       "    <tr>\n",
       "      <th>Prefecture</th>\n",
       "      <th></th>\n",
       "      <th></th>\n",
       "      <th></th>\n",
       "      <th></th>\n",
       "      <th></th>\n",
       "      <th></th>\n",
       "      <th></th>\n",
       "      <th></th>\n",
       "      <th></th>\n",
       "      <th></th>\n",
       "      <th></th>\n",
       "      <th></th>\n",
       "      <th></th>\n",
       "      <th></th>\n",
       "      <th></th>\n",
       "      <th></th>\n",
       "      <th></th>\n",
       "      <th></th>\n",
       "      <th></th>\n",
       "      <th></th>\n",
       "    </tr>\n",
       "  </thead>\n",
       "  <tbody>\n",
       "    <tr>\n",
       "      <th>Aichi</th>\n",
       "      <td>Nagoya</td>\n",
       "      <td>23.0</td>\n",
       "      <td>Chubu</td>\n",
       "      <td>2988</td>\n",
       "      <td>5172</td>\n",
       "      <td>210</td>\n",
       "      <td>3663</td>\n",
       "      <td>14577</td>\n",
       "      <td>2</td>\n",
       "      <td>67109</td>\n",
       "      <td>136</td>\n",
       "      <td>2</td>\n",
       "      <td>68</td>\n",
       "      <td>35.180464</td>\n",
       "      <td>136.906705</td>\n",
       "      <td>3761</td>\n",
       "      <td>3764</td>\n",
       "      <td>7525</td>\n",
       "      <td>72</td>\n",
       "      <td>70700</td>\n",
       "    </tr>\n",
       "    <tr>\n",
       "      <th>Akita</th>\n",
       "      <td>Akita</td>\n",
       "      <td>5.0</td>\n",
       "      <td>Tohoku</td>\n",
       "      <td>3204</td>\n",
       "      <td>11638</td>\n",
       "      <td>77</td>\n",
       "      <td>721</td>\n",
       "      <td>2035</td>\n",
       "      <td>0</td>\n",
       "      <td>14627</td>\n",
       "      <td>44</td>\n",
       "      <td>2</td>\n",
       "      <td>30</td>\n",
       "      <td>39.718353</td>\n",
       "      <td>140.103416</td>\n",
       "      <td>528</td>\n",
       "      <td>468</td>\n",
       "      <td>996</td>\n",
       "      <td>32</td>\n",
       "      <td>15316</td>\n",
       "    </tr>\n",
       "    <tr>\n",
       "      <th>Aomori</th>\n",
       "      <td>Aomori</td>\n",
       "      <td>2.0</td>\n",
       "      <td>Tohoku</td>\n",
       "      <td>3230</td>\n",
       "      <td>9646</td>\n",
       "      <td>114</td>\n",
       "      <td>1906</td>\n",
       "      <td>2614</td>\n",
       "      <td>0</td>\n",
       "      <td>17075</td>\n",
       "      <td>33</td>\n",
       "      <td>1</td>\n",
       "      <td>28</td>\n",
       "      <td>40.824592</td>\n",
       "      <td>140.740031</td>\n",
       "      <td>678</td>\n",
       "      <td>600</td>\n",
       "      <td>1278</td>\n",
       "      <td>29</td>\n",
       "      <td>18952</td>\n",
       "    </tr>\n",
       "    <tr>\n",
       "      <th>Chiba</th>\n",
       "      <td>Chiba</td>\n",
       "      <td>12.0</td>\n",
       "      <td>Kanto</td>\n",
       "      <td>3554</td>\n",
       "      <td>5158</td>\n",
       "      <td>115</td>\n",
       "      <td>2168</td>\n",
       "      <td>10587</td>\n",
       "      <td>2</td>\n",
       "      <td>59249</td>\n",
       "      <td>73</td>\n",
       "      <td>1</td>\n",
       "      <td>55</td>\n",
       "      <td>35.604757</td>\n",
       "      <td>140.123135</td>\n",
       "      <td>3143</td>\n",
       "      <td>3103</td>\n",
       "      <td>6246</td>\n",
       "      <td>58</td>\n",
       "      <td>61359</td>\n",
       "    </tr>\n",
       "    <tr>\n",
       "      <th>Ehime</th>\n",
       "      <td>Matsuyama</td>\n",
       "      <td>38.0</td>\n",
       "      <td>Shikoku</td>\n",
       "      <td>1673</td>\n",
       "      <td>5676</td>\n",
       "      <td>257</td>\n",
       "      <td>2351</td>\n",
       "      <td>4574</td>\n",
       "      <td>0</td>\n",
       "      <td>21027</td>\n",
       "      <td>54</td>\n",
       "      <td>2</td>\n",
       "      <td>26</td>\n",
       "      <td>33.841878</td>\n",
       "      <td>132.765825</td>\n",
       "      <td>719</td>\n",
       "      <td>645</td>\n",
       "      <td>1364</td>\n",
       "      <td>28</td>\n",
       "      <td>23350</td>\n",
       "    </tr>\n",
       "  </tbody>\n",
       "</table>\n",
       "</div>"
      ],
      "text/plain": [
       "Title      Admin_Capital  Admin_Num Admin_Region Area_Habitable Area_Total  \\\n",
       "Prefecture                                                                   \n",
       "Aichi             Nagoya       23.0        Chubu           2988       5172   \n",
       "Akita              Akita        5.0       Tohoku           3204      11638   \n",
       "Aomori            Aomori        2.0       Tohoku           3230       9646   \n",
       "Chiba              Chiba       12.0        Kanto           3554       5158   \n",
       "Ehime          Matsuyama       38.0      Shikoku           1673       5676   \n",
       "\n",
       "Title      Clinic_bed_Care Clinic_bed_Total Hospital_bed_Care  \\\n",
       "Prefecture                                                      \n",
       "Aichi                  210             3663             14577   \n",
       "Akita                   77              721              2035   \n",
       "Aomori                 114             1906              2614   \n",
       "Chiba                  115             2168             10587   \n",
       "Ehime                  257             2351              4574   \n",
       "\n",
       "Title      Hospital_bed_Specific Hospital_bed_Total Hospital_bed_Tuberculosis  \\\n",
       "Prefecture                                                                      \n",
       "Aichi                          2              67109                       136   \n",
       "Akita                          0              14627                        44   \n",
       "Aomori                         0              17075                        33   \n",
       "Chiba                          2              59249                        73   \n",
       "Ehime                          0              21027                        54   \n",
       "\n",
       "Title      Hospital_bed_Type-I Hospital_bed_Type-II Location_Latitude  \\\n",
       "Prefecture                                                              \n",
       "Aichi                        2                   68         35.180464   \n",
       "Akita                        2                   30         39.718353   \n",
       "Aomori                       1                   28         40.824592   \n",
       "Chiba                        1                   55         35.604757   \n",
       "Ehime                        2                   26         33.841878   \n",
       "\n",
       "Title      Location_Longitude Population_Female Population_Male  \\\n",
       "Prefecture                                                        \n",
       "Aichi             136.906705               3761            3764   \n",
       "Akita             140.103416                528             468   \n",
       "Aomori            140.740031                678             600   \n",
       "Chiba             140.123135               3143            3103   \n",
       "Ehime             132.765825                719             645   \n",
       "\n",
       "Title      Population_Total Bed_For_Severe Bed_For_Other  \n",
       "Prefecture                                                \n",
       "Aichi                  7525             72         70700  \n",
       "Akita                   996             32         15316  \n",
       "Aomori                 1278             29         18952  \n",
       "Chiba                  6246             58         61359  \n",
       "Ehime                  1364             28         23350  "
      ]
     },
     "execution_count": 51,
     "metadata": {},
     "output_type": "execute_result"
    }
   ],
   "source": [
    "# create 2 new features: Bed_For_Severe & Bed_For_Other\n",
    "df_hop['Bed_For_Severe'] = df_hop['Hospital_bed_Specific'] + df_hop['Hospital_bed_Type-I'] + df_hop['Hospital_bed_Type-II']\n",
    "df_hop['Bed_For_Other'] = df_hop['Hospital_bed_Total'] - df_hop['Bed_For_Severe'] + df_hop['Clinic_bed_Total']\n",
    "\n",
    "# display 5 first samples\n",
    "df_hop.head()"
   ]
  },
  {
   "cell_type": "code",
   "execution_count": 52,
   "id": "ff2f24ed",
   "metadata": {},
   "outputs": [
    {
     "data": {
      "application/vnd.plotly.v1+json": {
       "config": {
        "plotlyServerURL": "https://plot.ly"
       },
       "data": [
        {
         "alignmentgroup": "True",
         "hovertemplate": "Bed_For_Severe=%{y}<br>Prefectures=%{x}<extra></extra>",
         "legendgroup": "72",
         "marker": {
          "color": "#636efa",
          "pattern": {
           "shape": ""
          }
         },
         "name": "72",
         "offsetgroup": "72",
         "orientation": "v",
         "showlegend": true,
         "textposition": "auto",
         "type": "bar",
         "x": [
          "Aichi"
         ],
         "xaxis": "x",
         "y": [
          72
         ],
         "yaxis": "y"
        },
        {
         "alignmentgroup": "True",
         "hovertemplate": "Bed_For_Severe=%{y}<br>Prefectures=%{x}<extra></extra>",
         "legendgroup": "32",
         "marker": {
          "color": "#EF553B",
          "pattern": {
           "shape": ""
          }
         },
         "name": "32",
         "offsetgroup": "32",
         "orientation": "v",
         "showlegend": true,
         "textposition": "auto",
         "type": "bar",
         "x": [
          "Akita",
          "Wakayama"
         ],
         "xaxis": "x",
         "y": [
          32,
          32
         ],
         "yaxis": "y"
        },
        {
         "alignmentgroup": "True",
         "hovertemplate": "Bed_For_Severe=%{y}<br>Prefectures=%{x}<extra></extra>",
         "legendgroup": "29",
         "marker": {
          "color": "#00cc96",
          "pattern": {
           "shape": ""
          }
         },
         "name": "29",
         "offsetgroup": "29",
         "orientation": "v",
         "showlegend": true,
         "textposition": "auto",
         "type": "bar",
         "x": [
          "Aomori",
          "Miyagi"
         ],
         "xaxis": "x",
         "y": [
          29,
          29
         ],
         "yaxis": "y"
        },
        {
         "alignmentgroup": "True",
         "hovertemplate": "Bed_For_Severe=%{y}<br>Prefectures=%{x}<extra></extra>",
         "legendgroup": "58",
         "marker": {
          "color": "#ab63fa",
          "pattern": {
           "shape": ""
          }
         },
         "name": "58",
         "offsetgroup": "58",
         "orientation": "v",
         "showlegend": true,
         "textposition": "auto",
         "type": "bar",
         "x": [
          "Chiba"
         ],
         "xaxis": "x",
         "y": [
          58
         ],
         "yaxis": "y"
        },
        {
         "alignmentgroup": "True",
         "hovertemplate": "Bed_For_Severe=%{y}<br>Prefectures=%{x}<extra></extra>",
         "legendgroup": "28",
         "marker": {
          "color": "#FFA15A",
          "pattern": {
           "shape": ""
          }
         },
         "name": "28",
         "offsetgroup": "28",
         "orientation": "v",
         "showlegend": true,
         "textposition": "auto",
         "type": "bar",
         "x": [
          "Ehime"
         ],
         "xaxis": "x",
         "y": [
          28
         ],
         "yaxis": "y"
        },
        {
         "alignmentgroup": "True",
         "hovertemplate": "Bed_For_Severe=%{y}<br>Prefectures=%{x}<extra></extra>",
         "legendgroup": "20",
         "marker": {
          "color": "#19d3f3",
          "pattern": {
           "shape": ""
          }
         },
         "name": "20",
         "offsetgroup": "20",
         "orientation": "v",
         "showlegend": true,
         "textposition": "auto",
         "type": "bar",
         "x": [
          "Fukui",
          "Ishikawa"
         ],
         "xaxis": "x",
         "y": [
          20,
          20
         ],
         "yaxis": "y"
        },
        {
         "alignmentgroup": "True",
         "hovertemplate": "Bed_For_Severe=%{y}<br>Prefectures=%{x}<extra></extra>",
         "legendgroup": "66",
         "marker": {
          "color": "#FF6692",
          "pattern": {
           "shape": ""
          }
         },
         "name": "66",
         "offsetgroup": "66",
         "orientation": "v",
         "showlegend": true,
         "textposition": "auto",
         "type": "bar",
         "x": [
          "Fukuoka"
         ],
         "xaxis": "x",
         "y": [
          66
         ],
         "yaxis": "y"
        },
        {
         "alignmentgroup": "True",
         "hovertemplate": "Bed_For_Severe=%{y}<br>Prefectures=%{x}<extra></extra>",
         "legendgroup": "36",
         "marker": {
          "color": "#B6E880",
          "pattern": {
           "shape": ""
          }
         },
         "name": "36",
         "offsetgroup": "36",
         "orientation": "v",
         "showlegend": true,
         "textposition": "auto",
         "type": "bar",
         "x": [
          "Fukushima",
          "Niigata"
         ],
         "xaxis": "x",
         "y": [
          36,
          36
         ],
         "yaxis": "y"
        },
        {
         "alignmentgroup": "True",
         "hovertemplate": "Bed_For_Severe=%{y}<br>Prefectures=%{x}<extra></extra>",
         "legendgroup": "30",
         "marker": {
          "color": "#FF97FF",
          "pattern": {
           "shape": ""
          }
         },
         "name": "30",
         "offsetgroup": "30",
         "orientation": "v",
         "showlegend": true,
         "textposition": "auto",
         "type": "bar",
         "x": [
          "Gifu",
          "Hiroshima",
          "Shimane",
          "Yamanashi"
         ],
         "xaxis": "x",
         "y": [
          30,
          30,
          30,
          30
         ],
         "yaxis": "y"
        },
        {
         "alignmentgroup": "True",
         "hovertemplate": "Bed_For_Severe=%{y}<br>Prefectures=%{x}<extra></extra>",
         "legendgroup": "52",
         "marker": {
          "color": "#FECB52",
          "pattern": {
           "shape": ""
          }
         },
         "name": "52",
         "offsetgroup": "52",
         "orientation": "v",
         "showlegend": true,
         "textposition": "auto",
         "type": "bar",
         "x": [
          "Gunma"
         ],
         "xaxis": "x",
         "y": [
          52
         ],
         "yaxis": "y"
        },
        {
         "alignmentgroup": "True",
         "hovertemplate": "Bed_For_Severe=%{y}<br>Prefectures=%{x}<extra></extra>",
         "legendgroup": "94",
         "marker": {
          "color": "#636efa",
          "pattern": {
           "shape": ""
          }
         },
         "name": "94",
         "offsetgroup": "94",
         "orientation": "v",
         "showlegend": true,
         "textposition": "auto",
         "type": "bar",
         "x": [
          "Hokkaido"
         ],
         "xaxis": "x",
         "y": [
          94
         ],
         "yaxis": "y"
        },
        {
         "alignmentgroup": "True",
         "hovertemplate": "Bed_For_Severe=%{y}<br>Prefectures=%{x}<extra></extra>",
         "legendgroup": "50",
         "marker": {
          "color": "#EF553B",
          "pattern": {
           "shape": ""
          }
         },
         "name": "50",
         "offsetgroup": "50",
         "orientation": "v",
         "showlegend": true,
         "textposition": "auto",
         "type": "bar",
         "x": [
          "Hyogo"
         ],
         "xaxis": "x",
         "y": [
          50
         ],
         "yaxis": "y"
        },
        {
         "alignmentgroup": "True",
         "hovertemplate": "Bed_For_Severe=%{y}<br>Prefectures=%{x}<extra></extra>",
         "legendgroup": "48",
         "marker": {
          "color": "#00cc96",
          "pattern": {
           "shape": ""
          }
         },
         "name": "48",
         "offsetgroup": "48",
         "orientation": "v",
         "showlegend": true,
         "textposition": "auto",
         "type": "bar",
         "x": [
          "Ibaraki",
          "Kumamoto",
          "Shizuoka"
         ],
         "xaxis": "x",
         "y": [
          48,
          48,
          48
         ],
         "yaxis": "y"
        },
        {
         "alignmentgroup": "True",
         "hovertemplate": "Bed_For_Severe=%{y}<br>Prefectures=%{x}<extra></extra>",
         "legendgroup": "38",
         "marker": {
          "color": "#ab63fa",
          "pattern": {
           "shape": ""
          }
         },
         "name": "38",
         "offsetgroup": "38",
         "orientation": "v",
         "showlegend": true,
         "textposition": "auto",
         "type": "bar",
         "x": [
          "Iwate",
          "Kyoto",
          "Nagasaki"
         ],
         "xaxis": "x",
         "y": [
          38,
          38,
          38
         ],
         "yaxis": "y"
        },
        {
         "alignmentgroup": "True",
         "hovertemplate": "Bed_For_Severe=%{y}<br>Prefectures=%{x}<extra></extra>",
         "legendgroup": "24",
         "marker": {
          "color": "#FFA15A",
          "pattern": {
           "shape": ""
          }
         },
         "name": "24",
         "offsetgroup": "24",
         "orientation": "v",
         "showlegend": true,
         "textposition": "auto",
         "type": "bar",
         "x": [
          "Kagawa",
          "Mie",
          "Nara",
          "Okinawa",
          "Saga"
         ],
         "xaxis": "x",
         "y": [
          24,
          24,
          24,
          24,
          24
         ],
         "yaxis": "y"
        },
        {
         "alignmentgroup": "True",
         "hovertemplate": "Bed_For_Severe=%{y}<br>Prefectures=%{x}<extra></extra>",
         "legendgroup": "45",
         "marker": {
          "color": "#19d3f3",
          "pattern": {
           "shape": ""
          }
         },
         "name": "45",
         "offsetgroup": "45",
         "orientation": "v",
         "showlegend": true,
         "textposition": "auto",
         "type": "bar",
         "x": [
          "Kagoshima"
         ],
         "xaxis": "x",
         "y": [
          45
         ],
         "yaxis": "y"
        },
        {
         "alignmentgroup": "True",
         "hovertemplate": "Bed_For_Severe=%{y}<br>Prefectures=%{x}<extra></extra>",
         "legendgroup": "74",
         "marker": {
          "color": "#FF6692",
          "pattern": {
           "shape": ""
          }
         },
         "name": "74",
         "offsetgroup": "74",
         "orientation": "v",
         "showlegend": true,
         "textposition": "auto",
         "type": "bar",
         "x": [
          "Kanagawa"
         ],
         "xaxis": "x",
         "y": [
          74
         ],
         "yaxis": "y"
        },
        {
         "alignmentgroup": "True",
         "hovertemplate": "Bed_For_Severe=%{y}<br>Prefectures=%{x}<extra></extra>",
         "legendgroup": "11",
         "marker": {
          "color": "#B6E880",
          "pattern": {
           "shape": ""
          }
         },
         "name": "11",
         "offsetgroup": "11",
         "orientation": "v",
         "showlegend": true,
         "textposition": "auto",
         "type": "bar",
         "x": [
          "Kochi"
         ],
         "xaxis": "x",
         "y": [
          11
         ],
         "yaxis": "y"
        },
        {
         "alignmentgroup": "True",
         "hovertemplate": "Bed_For_Severe=%{y}<br>Prefectures=%{x}<extra></extra>",
         "legendgroup": "31",
         "marker": {
          "color": "#FF97FF",
          "pattern": {
           "shape": ""
          }
         },
         "name": "31",
         "offsetgroup": "31",
         "orientation": "v",
         "showlegend": true,
         "textposition": "auto",
         "type": "bar",
         "x": [
          "Miyazaki",
          "Tochigi"
         ],
         "xaxis": "x",
         "y": [
          31,
          31
         ],
         "yaxis": "y"
        },
        {
         "alignmentgroup": "True",
         "hovertemplate": "Bed_For_Severe=%{y}<br>Prefectures=%{x}<extra></extra>",
         "legendgroup": "46",
         "marker": {
          "color": "#FECB52",
          "pattern": {
           "shape": ""
          }
         },
         "name": "46",
         "offsetgroup": "46",
         "orientation": "v",
         "showlegend": true,
         "textposition": "auto",
         "type": "bar",
         "x": [
          "Nagano"
         ],
         "xaxis": "x",
         "y": [
          46
         ],
         "yaxis": "y"
        },
        {
         "alignmentgroup": "True",
         "hovertemplate": "Bed_For_Severe=%{y}<br>Prefectures=%{x}<extra></extra>",
         "legendgroup": "40",
         "marker": {
          "color": "#636efa",
          "pattern": {
           "shape": ""
          }
         },
         "name": "40",
         "offsetgroup": "40",
         "orientation": "v",
         "showlegend": true,
         "textposition": "auto",
         "type": "bar",
         "x": [
          "Oita",
          "Yamaguchi"
         ],
         "xaxis": "x",
         "y": [
          40,
          40
         ],
         "yaxis": "y"
        },
        {
         "alignmentgroup": "True",
         "hovertemplate": "Bed_For_Severe=%{y}<br>Prefectures=%{x}<extra></extra>",
         "legendgroup": "26",
         "marker": {
          "color": "#EF553B",
          "pattern": {
           "shape": ""
          }
         },
         "name": "26",
         "offsetgroup": "26",
         "orientation": "v",
         "showlegend": true,
         "textposition": "auto",
         "type": "bar",
         "x": [
          "Okayama"
         ],
         "xaxis": "x",
         "y": [
          26
         ],
         "yaxis": "y"
        },
        {
         "alignmentgroup": "True",
         "hovertemplate": "Bed_For_Severe=%{y}<br>Prefectures=%{x}<extra></extra>",
         "legendgroup": "78",
         "marker": {
          "color": "#00cc96",
          "pattern": {
           "shape": ""
          }
         },
         "name": "78",
         "offsetgroup": "78",
         "orientation": "v",
         "showlegend": true,
         "textposition": "auto",
         "type": "bar",
         "x": [
          "Osaka"
         ],
         "xaxis": "x",
         "y": [
          78
         ],
         "yaxis": "y"
        },
        {
         "alignmentgroup": "True",
         "hovertemplate": "Bed_For_Severe=%{y}<br>Prefectures=%{x}<extra></extra>",
         "legendgroup": "70",
         "marker": {
          "color": "#ab63fa",
          "pattern": {
           "shape": ""
          }
         },
         "name": "70",
         "offsetgroup": "70",
         "orientation": "v",
         "showlegend": true,
         "textposition": "auto",
         "type": "bar",
         "x": [
          "Saitama"
         ],
         "xaxis": "x",
         "y": [
          70
         ],
         "yaxis": "y"
        },
        {
         "alignmentgroup": "True",
         "hovertemplate": "Bed_For_Severe=%{y}<br>Prefectures=%{x}<extra></extra>",
         "legendgroup": "34",
         "marker": {
          "color": "#FFA15A",
          "pattern": {
           "shape": ""
          }
         },
         "name": "34",
         "offsetgroup": "34",
         "orientation": "v",
         "showlegend": true,
         "textposition": "auto",
         "type": "bar",
         "x": [
          "Shiga"
         ],
         "xaxis": "x",
         "y": [
          34
         ],
         "yaxis": "y"
        },
        {
         "alignmentgroup": "True",
         "hovertemplate": "Bed_For_Severe=%{y}<br>Prefectures=%{x}<extra></extra>",
         "legendgroup": "23",
         "marker": {
          "color": "#19d3f3",
          "pattern": {
           "shape": ""
          }
         },
         "name": "23",
         "offsetgroup": "23",
         "orientation": "v",
         "showlegend": true,
         "textposition": "auto",
         "type": "bar",
         "x": [
          "Tokushima"
         ],
         "xaxis": "x",
         "y": [
          23
         ],
         "yaxis": "y"
        },
        {
         "alignmentgroup": "True",
         "hovertemplate": "Bed_For_Severe=%{y}<br>Prefectures=%{x}<extra></extra>",
         "legendgroup": "118",
         "marker": {
          "color": "#FF6692",
          "pattern": {
           "shape": ""
          }
         },
         "name": "118",
         "offsetgroup": "118",
         "orientation": "v",
         "showlegend": true,
         "textposition": "auto",
         "type": "bar",
         "x": [
          "Tokyo"
         ],
         "xaxis": "x",
         "y": [
          118
         ],
         "yaxis": "y"
        },
        {
         "alignmentgroup": "True",
         "hovertemplate": "Bed_For_Severe=%{y}<br>Prefectures=%{x}<extra></extra>",
         "legendgroup": "12",
         "marker": {
          "color": "#B6E880",
          "pattern": {
           "shape": ""
          }
         },
         "name": "12",
         "offsetgroup": "12",
         "orientation": "v",
         "showlegend": true,
         "textposition": "auto",
         "type": "bar",
         "x": [
          "Tottori"
         ],
         "xaxis": "x",
         "y": [
          12
         ],
         "yaxis": "y"
        },
        {
         "alignmentgroup": "True",
         "hovertemplate": "Bed_For_Severe=%{y}<br>Prefectures=%{x}<extra></extra>",
         "legendgroup": "22",
         "marker": {
          "color": "#FF97FF",
          "pattern": {
           "shape": ""
          }
         },
         "name": "22",
         "offsetgroup": "22",
         "orientation": "v",
         "showlegend": true,
         "textposition": "auto",
         "type": "bar",
         "x": [
          "Toyama"
         ],
         "xaxis": "x",
         "y": [
          22
         ],
         "yaxis": "y"
        },
        {
         "alignmentgroup": "True",
         "hovertemplate": "Bed_For_Severe=%{y}<br>Prefectures=%{x}<extra></extra>",
         "legendgroup": "18",
         "marker": {
          "color": "#FECB52",
          "pattern": {
           "shape": ""
          }
         },
         "name": "18",
         "offsetgroup": "18",
         "orientation": "v",
         "showlegend": true,
         "textposition": "auto",
         "type": "bar",
         "x": [
          "Yamagata"
         ],
         "xaxis": "x",
         "y": [
          18
         ],
         "yaxis": "y"
        }
       ],
       "layout": {
        "barmode": "relative",
        "legend": {
         "title": {
          "text": "Bed_For_Severe"
         },
         "tracegroupgap": 0
        },
        "template": {
         "data": {
          "bar": [
           {
            "error_x": {
             "color": "#2a3f5f"
            },
            "error_y": {
             "color": "#2a3f5f"
            },
            "marker": {
             "line": {
              "color": "#E5ECF6",
              "width": 0.5
             },
             "pattern": {
              "fillmode": "overlay",
              "size": 10,
              "solidity": 0.2
             }
            },
            "type": "bar"
           }
          ],
          "barpolar": [
           {
            "marker": {
             "line": {
              "color": "#E5ECF6",
              "width": 0.5
             },
             "pattern": {
              "fillmode": "overlay",
              "size": 10,
              "solidity": 0.2
             }
            },
            "type": "barpolar"
           }
          ],
          "carpet": [
           {
            "aaxis": {
             "endlinecolor": "#2a3f5f",
             "gridcolor": "white",
             "linecolor": "white",
             "minorgridcolor": "white",
             "startlinecolor": "#2a3f5f"
            },
            "baxis": {
             "endlinecolor": "#2a3f5f",
             "gridcolor": "white",
             "linecolor": "white",
             "minorgridcolor": "white",
             "startlinecolor": "#2a3f5f"
            },
            "type": "carpet"
           }
          ],
          "choropleth": [
           {
            "colorbar": {
             "outlinewidth": 0,
             "ticks": ""
            },
            "type": "choropleth"
           }
          ],
          "contour": [
           {
            "colorbar": {
             "outlinewidth": 0,
             "ticks": ""
            },
            "colorscale": [
             [
              0,
              "#0d0887"
             ],
             [
              0.1111111111111111,
              "#46039f"
             ],
             [
              0.2222222222222222,
              "#7201a8"
             ],
             [
              0.3333333333333333,
              "#9c179e"
             ],
             [
              0.4444444444444444,
              "#bd3786"
             ],
             [
              0.5555555555555556,
              "#d8576b"
             ],
             [
              0.6666666666666666,
              "#ed7953"
             ],
             [
              0.7777777777777778,
              "#fb9f3a"
             ],
             [
              0.8888888888888888,
              "#fdca26"
             ],
             [
              1,
              "#f0f921"
             ]
            ],
            "type": "contour"
           }
          ],
          "contourcarpet": [
           {
            "colorbar": {
             "outlinewidth": 0,
             "ticks": ""
            },
            "type": "contourcarpet"
           }
          ],
          "heatmap": [
           {
            "colorbar": {
             "outlinewidth": 0,
             "ticks": ""
            },
            "colorscale": [
             [
              0,
              "#0d0887"
             ],
             [
              0.1111111111111111,
              "#46039f"
             ],
             [
              0.2222222222222222,
              "#7201a8"
             ],
             [
              0.3333333333333333,
              "#9c179e"
             ],
             [
              0.4444444444444444,
              "#bd3786"
             ],
             [
              0.5555555555555556,
              "#d8576b"
             ],
             [
              0.6666666666666666,
              "#ed7953"
             ],
             [
              0.7777777777777778,
              "#fb9f3a"
             ],
             [
              0.8888888888888888,
              "#fdca26"
             ],
             [
              1,
              "#f0f921"
             ]
            ],
            "type": "heatmap"
           }
          ],
          "heatmapgl": [
           {
            "colorbar": {
             "outlinewidth": 0,
             "ticks": ""
            },
            "colorscale": [
             [
              0,
              "#0d0887"
             ],
             [
              0.1111111111111111,
              "#46039f"
             ],
             [
              0.2222222222222222,
              "#7201a8"
             ],
             [
              0.3333333333333333,
              "#9c179e"
             ],
             [
              0.4444444444444444,
              "#bd3786"
             ],
             [
              0.5555555555555556,
              "#d8576b"
             ],
             [
              0.6666666666666666,
              "#ed7953"
             ],
             [
              0.7777777777777778,
              "#fb9f3a"
             ],
             [
              0.8888888888888888,
              "#fdca26"
             ],
             [
              1,
              "#f0f921"
             ]
            ],
            "type": "heatmapgl"
           }
          ],
          "histogram": [
           {
            "marker": {
             "pattern": {
              "fillmode": "overlay",
              "size": 10,
              "solidity": 0.2
             }
            },
            "type": "histogram"
           }
          ],
          "histogram2d": [
           {
            "colorbar": {
             "outlinewidth": 0,
             "ticks": ""
            },
            "colorscale": [
             [
              0,
              "#0d0887"
             ],
             [
              0.1111111111111111,
              "#46039f"
             ],
             [
              0.2222222222222222,
              "#7201a8"
             ],
             [
              0.3333333333333333,
              "#9c179e"
             ],
             [
              0.4444444444444444,
              "#bd3786"
             ],
             [
              0.5555555555555556,
              "#d8576b"
             ],
             [
              0.6666666666666666,
              "#ed7953"
             ],
             [
              0.7777777777777778,
              "#fb9f3a"
             ],
             [
              0.8888888888888888,
              "#fdca26"
             ],
             [
              1,
              "#f0f921"
             ]
            ],
            "type": "histogram2d"
           }
          ],
          "histogram2dcontour": [
           {
            "colorbar": {
             "outlinewidth": 0,
             "ticks": ""
            },
            "colorscale": [
             [
              0,
              "#0d0887"
             ],
             [
              0.1111111111111111,
              "#46039f"
             ],
             [
              0.2222222222222222,
              "#7201a8"
             ],
             [
              0.3333333333333333,
              "#9c179e"
             ],
             [
              0.4444444444444444,
              "#bd3786"
             ],
             [
              0.5555555555555556,
              "#d8576b"
             ],
             [
              0.6666666666666666,
              "#ed7953"
             ],
             [
              0.7777777777777778,
              "#fb9f3a"
             ],
             [
              0.8888888888888888,
              "#fdca26"
             ],
             [
              1,
              "#f0f921"
             ]
            ],
            "type": "histogram2dcontour"
           }
          ],
          "mesh3d": [
           {
            "colorbar": {
             "outlinewidth": 0,
             "ticks": ""
            },
            "type": "mesh3d"
           }
          ],
          "parcoords": [
           {
            "line": {
             "colorbar": {
              "outlinewidth": 0,
              "ticks": ""
             }
            },
            "type": "parcoords"
           }
          ],
          "pie": [
           {
            "automargin": true,
            "type": "pie"
           }
          ],
          "scatter": [
           {
            "marker": {
             "colorbar": {
              "outlinewidth": 0,
              "ticks": ""
             }
            },
            "type": "scatter"
           }
          ],
          "scatter3d": [
           {
            "line": {
             "colorbar": {
              "outlinewidth": 0,
              "ticks": ""
             }
            },
            "marker": {
             "colorbar": {
              "outlinewidth": 0,
              "ticks": ""
             }
            },
            "type": "scatter3d"
           }
          ],
          "scattercarpet": [
           {
            "marker": {
             "colorbar": {
              "outlinewidth": 0,
              "ticks": ""
             }
            },
            "type": "scattercarpet"
           }
          ],
          "scattergeo": [
           {
            "marker": {
             "colorbar": {
              "outlinewidth": 0,
              "ticks": ""
             }
            },
            "type": "scattergeo"
           }
          ],
          "scattergl": [
           {
            "marker": {
             "colorbar": {
              "outlinewidth": 0,
              "ticks": ""
             }
            },
            "type": "scattergl"
           }
          ],
          "scattermapbox": [
           {
            "marker": {
             "colorbar": {
              "outlinewidth": 0,
              "ticks": ""
             }
            },
            "type": "scattermapbox"
           }
          ],
          "scatterpolar": [
           {
            "marker": {
             "colorbar": {
              "outlinewidth": 0,
              "ticks": ""
             }
            },
            "type": "scatterpolar"
           }
          ],
          "scatterpolargl": [
           {
            "marker": {
             "colorbar": {
              "outlinewidth": 0,
              "ticks": ""
             }
            },
            "type": "scatterpolargl"
           }
          ],
          "scatterternary": [
           {
            "marker": {
             "colorbar": {
              "outlinewidth": 0,
              "ticks": ""
             }
            },
            "type": "scatterternary"
           }
          ],
          "surface": [
           {
            "colorbar": {
             "outlinewidth": 0,
             "ticks": ""
            },
            "colorscale": [
             [
              0,
              "#0d0887"
             ],
             [
              0.1111111111111111,
              "#46039f"
             ],
             [
              0.2222222222222222,
              "#7201a8"
             ],
             [
              0.3333333333333333,
              "#9c179e"
             ],
             [
              0.4444444444444444,
              "#bd3786"
             ],
             [
              0.5555555555555556,
              "#d8576b"
             ],
             [
              0.6666666666666666,
              "#ed7953"
             ],
             [
              0.7777777777777778,
              "#fb9f3a"
             ],
             [
              0.8888888888888888,
              "#fdca26"
             ],
             [
              1,
              "#f0f921"
             ]
            ],
            "type": "surface"
           }
          ],
          "table": [
           {
            "cells": {
             "fill": {
              "color": "#EBF0F8"
             },
             "line": {
              "color": "white"
             }
            },
            "header": {
             "fill": {
              "color": "#C8D4E3"
             },
             "line": {
              "color": "white"
             }
            },
            "type": "table"
           }
          ]
         },
         "layout": {
          "annotationdefaults": {
           "arrowcolor": "#2a3f5f",
           "arrowhead": 0,
           "arrowwidth": 1
          },
          "autotypenumbers": "strict",
          "coloraxis": {
           "colorbar": {
            "outlinewidth": 0,
            "ticks": ""
           }
          },
          "colorscale": {
           "diverging": [
            [
             0,
             "#8e0152"
            ],
            [
             0.1,
             "#c51b7d"
            ],
            [
             0.2,
             "#de77ae"
            ],
            [
             0.3,
             "#f1b6da"
            ],
            [
             0.4,
             "#fde0ef"
            ],
            [
             0.5,
             "#f7f7f7"
            ],
            [
             0.6,
             "#e6f5d0"
            ],
            [
             0.7,
             "#b8e186"
            ],
            [
             0.8,
             "#7fbc41"
            ],
            [
             0.9,
             "#4d9221"
            ],
            [
             1,
             "#276419"
            ]
           ],
           "sequential": [
            [
             0,
             "#0d0887"
            ],
            [
             0.1111111111111111,
             "#46039f"
            ],
            [
             0.2222222222222222,
             "#7201a8"
            ],
            [
             0.3333333333333333,
             "#9c179e"
            ],
            [
             0.4444444444444444,
             "#bd3786"
            ],
            [
             0.5555555555555556,
             "#d8576b"
            ],
            [
             0.6666666666666666,
             "#ed7953"
            ],
            [
             0.7777777777777778,
             "#fb9f3a"
            ],
            [
             0.8888888888888888,
             "#fdca26"
            ],
            [
             1,
             "#f0f921"
            ]
           ],
           "sequentialminus": [
            [
             0,
             "#0d0887"
            ],
            [
             0.1111111111111111,
             "#46039f"
            ],
            [
             0.2222222222222222,
             "#7201a8"
            ],
            [
             0.3333333333333333,
             "#9c179e"
            ],
            [
             0.4444444444444444,
             "#bd3786"
            ],
            [
             0.5555555555555556,
             "#d8576b"
            ],
            [
             0.6666666666666666,
             "#ed7953"
            ],
            [
             0.7777777777777778,
             "#fb9f3a"
            ],
            [
             0.8888888888888888,
             "#fdca26"
            ],
            [
             1,
             "#f0f921"
            ]
           ]
          },
          "colorway": [
           "#636efa",
           "#EF553B",
           "#00cc96",
           "#ab63fa",
           "#FFA15A",
           "#19d3f3",
           "#FF6692",
           "#B6E880",
           "#FF97FF",
           "#FECB52"
          ],
          "font": {
           "color": "#2a3f5f"
          },
          "geo": {
           "bgcolor": "white",
           "lakecolor": "white",
           "landcolor": "#E5ECF6",
           "showlakes": true,
           "showland": true,
           "subunitcolor": "white"
          },
          "hoverlabel": {
           "align": "left"
          },
          "hovermode": "closest",
          "mapbox": {
           "style": "light"
          },
          "paper_bgcolor": "white",
          "plot_bgcolor": "#E5ECF6",
          "polar": {
           "angularaxis": {
            "gridcolor": "white",
            "linecolor": "white",
            "ticks": ""
           },
           "bgcolor": "#E5ECF6",
           "radialaxis": {
            "gridcolor": "white",
            "linecolor": "white",
            "ticks": ""
           }
          },
          "scene": {
           "xaxis": {
            "backgroundcolor": "#E5ECF6",
            "gridcolor": "white",
            "gridwidth": 2,
            "linecolor": "white",
            "showbackground": true,
            "ticks": "",
            "zerolinecolor": "white"
           },
           "yaxis": {
            "backgroundcolor": "#E5ECF6",
            "gridcolor": "white",
            "gridwidth": 2,
            "linecolor": "white",
            "showbackground": true,
            "ticks": "",
            "zerolinecolor": "white"
           },
           "zaxis": {
            "backgroundcolor": "#E5ECF6",
            "gridcolor": "white",
            "gridwidth": 2,
            "linecolor": "white",
            "showbackground": true,
            "ticks": "",
            "zerolinecolor": "white"
           }
          },
          "shapedefaults": {
           "line": {
            "color": "#2a3f5f"
           }
          },
          "ternary": {
           "aaxis": {
            "gridcolor": "white",
            "linecolor": "white",
            "ticks": ""
           },
           "baxis": {
            "gridcolor": "white",
            "linecolor": "white",
            "ticks": ""
           },
           "bgcolor": "#E5ECF6",
           "caxis": {
            "gridcolor": "white",
            "linecolor": "white",
            "ticks": ""
           }
          },
          "title": {
           "x": 0.05
          },
          "xaxis": {
           "automargin": true,
           "gridcolor": "white",
           "linecolor": "white",
           "ticks": "",
           "title": {
            "standoff": 15
           },
           "zerolinecolor": "white",
           "zerolinewidth": 2
          },
          "yaxis": {
           "automargin": true,
           "gridcolor": "white",
           "linecolor": "white",
           "ticks": "",
           "title": {
            "standoff": 15
           },
           "zerolinecolor": "white",
           "zerolinewidth": 2
          }
         }
        },
        "title": {
         "text": "The number of beds that the patients with severe symptoms can use"
        },
        "xaxis": {
         "anchor": "y",
         "domain": [
          0,
          1
         ],
         "title": {
          "text": "Prefectures"
         }
        },
        "yaxis": {
         "anchor": "x",
         "categoryarray": [
          18,
          22,
          12,
          118,
          23,
          34,
          70,
          78,
          26,
          40,
          46,
          31,
          11,
          74,
          45,
          24,
          38,
          48,
          50,
          94,
          52,
          30,
          36,
          66,
          20,
          28,
          58,
          29,
          32,
          72
         ],
         "categoryorder": "array",
         "domain": [
          0,
          1
         ],
         "title": {
          "text": "Bed_For_Severe"
         }
        }
       }
      },
      "text/html": [
       "<div>                            <div id=\"f1299d61-038b-4c5e-885b-70b6208a2e43\" class=\"plotly-graph-div\" style=\"height:525px; width:100%;\"></div>            <script type=\"text/javascript\">                require([\"plotly\"], function(Plotly) {                    window.PLOTLYENV=window.PLOTLYENV || {};                                    if (document.getElementById(\"f1299d61-038b-4c5e-885b-70b6208a2e43\")) {                    Plotly.newPlot(                        \"f1299d61-038b-4c5e-885b-70b6208a2e43\",                        [{\"alignmentgroup\":\"True\",\"hovertemplate\":\"Bed_For_Severe=%{y}<br>Prefectures=%{x}<extra></extra>\",\"legendgroup\":\"72\",\"marker\":{\"color\":\"#636efa\",\"pattern\":{\"shape\":\"\"}},\"name\":\"72\",\"offsetgroup\":\"72\",\"orientation\":\"v\",\"showlegend\":true,\"textposition\":\"auto\",\"type\":\"bar\",\"x\":[\"Aichi\"],\"xaxis\":\"x\",\"y\":[72],\"yaxis\":\"y\"},{\"alignmentgroup\":\"True\",\"hovertemplate\":\"Bed_For_Severe=%{y}<br>Prefectures=%{x}<extra></extra>\",\"legendgroup\":\"32\",\"marker\":{\"color\":\"#EF553B\",\"pattern\":{\"shape\":\"\"}},\"name\":\"32\",\"offsetgroup\":\"32\",\"orientation\":\"v\",\"showlegend\":true,\"textposition\":\"auto\",\"type\":\"bar\",\"x\":[\"Akita\",\"Wakayama\"],\"xaxis\":\"x\",\"y\":[32,32],\"yaxis\":\"y\"},{\"alignmentgroup\":\"True\",\"hovertemplate\":\"Bed_For_Severe=%{y}<br>Prefectures=%{x}<extra></extra>\",\"legendgroup\":\"29\",\"marker\":{\"color\":\"#00cc96\",\"pattern\":{\"shape\":\"\"}},\"name\":\"29\",\"offsetgroup\":\"29\",\"orientation\":\"v\",\"showlegend\":true,\"textposition\":\"auto\",\"type\":\"bar\",\"x\":[\"Aomori\",\"Miyagi\"],\"xaxis\":\"x\",\"y\":[29,29],\"yaxis\":\"y\"},{\"alignmentgroup\":\"True\",\"hovertemplate\":\"Bed_For_Severe=%{y}<br>Prefectures=%{x}<extra></extra>\",\"legendgroup\":\"58\",\"marker\":{\"color\":\"#ab63fa\",\"pattern\":{\"shape\":\"\"}},\"name\":\"58\",\"offsetgroup\":\"58\",\"orientation\":\"v\",\"showlegend\":true,\"textposition\":\"auto\",\"type\":\"bar\",\"x\":[\"Chiba\"],\"xaxis\":\"x\",\"y\":[58],\"yaxis\":\"y\"},{\"alignmentgroup\":\"True\",\"hovertemplate\":\"Bed_For_Severe=%{y}<br>Prefectures=%{x}<extra></extra>\",\"legendgroup\":\"28\",\"marker\":{\"color\":\"#FFA15A\",\"pattern\":{\"shape\":\"\"}},\"name\":\"28\",\"offsetgroup\":\"28\",\"orientation\":\"v\",\"showlegend\":true,\"textposition\":\"auto\",\"type\":\"bar\",\"x\":[\"Ehime\"],\"xaxis\":\"x\",\"y\":[28],\"yaxis\":\"y\"},{\"alignmentgroup\":\"True\",\"hovertemplate\":\"Bed_For_Severe=%{y}<br>Prefectures=%{x}<extra></extra>\",\"legendgroup\":\"20\",\"marker\":{\"color\":\"#19d3f3\",\"pattern\":{\"shape\":\"\"}},\"name\":\"20\",\"offsetgroup\":\"20\",\"orientation\":\"v\",\"showlegend\":true,\"textposition\":\"auto\",\"type\":\"bar\",\"x\":[\"Fukui\",\"Ishikawa\"],\"xaxis\":\"x\",\"y\":[20,20],\"yaxis\":\"y\"},{\"alignmentgroup\":\"True\",\"hovertemplate\":\"Bed_For_Severe=%{y}<br>Prefectures=%{x}<extra></extra>\",\"legendgroup\":\"66\",\"marker\":{\"color\":\"#FF6692\",\"pattern\":{\"shape\":\"\"}},\"name\":\"66\",\"offsetgroup\":\"66\",\"orientation\":\"v\",\"showlegend\":true,\"textposition\":\"auto\",\"type\":\"bar\",\"x\":[\"Fukuoka\"],\"xaxis\":\"x\",\"y\":[66],\"yaxis\":\"y\"},{\"alignmentgroup\":\"True\",\"hovertemplate\":\"Bed_For_Severe=%{y}<br>Prefectures=%{x}<extra></extra>\",\"legendgroup\":\"36\",\"marker\":{\"color\":\"#B6E880\",\"pattern\":{\"shape\":\"\"}},\"name\":\"36\",\"offsetgroup\":\"36\",\"orientation\":\"v\",\"showlegend\":true,\"textposition\":\"auto\",\"type\":\"bar\",\"x\":[\"Fukushima\",\"Niigata\"],\"xaxis\":\"x\",\"y\":[36,36],\"yaxis\":\"y\"},{\"alignmentgroup\":\"True\",\"hovertemplate\":\"Bed_For_Severe=%{y}<br>Prefectures=%{x}<extra></extra>\",\"legendgroup\":\"30\",\"marker\":{\"color\":\"#FF97FF\",\"pattern\":{\"shape\":\"\"}},\"name\":\"30\",\"offsetgroup\":\"30\",\"orientation\":\"v\",\"showlegend\":true,\"textposition\":\"auto\",\"type\":\"bar\",\"x\":[\"Gifu\",\"Hiroshima\",\"Shimane\",\"Yamanashi\"],\"xaxis\":\"x\",\"y\":[30,30,30,30],\"yaxis\":\"y\"},{\"alignmentgroup\":\"True\",\"hovertemplate\":\"Bed_For_Severe=%{y}<br>Prefectures=%{x}<extra></extra>\",\"legendgroup\":\"52\",\"marker\":{\"color\":\"#FECB52\",\"pattern\":{\"shape\":\"\"}},\"name\":\"52\",\"offsetgroup\":\"52\",\"orientation\":\"v\",\"showlegend\":true,\"textposition\":\"auto\",\"type\":\"bar\",\"x\":[\"Gunma\"],\"xaxis\":\"x\",\"y\":[52],\"yaxis\":\"y\"},{\"alignmentgroup\":\"True\",\"hovertemplate\":\"Bed_For_Severe=%{y}<br>Prefectures=%{x}<extra></extra>\",\"legendgroup\":\"94\",\"marker\":{\"color\":\"#636efa\",\"pattern\":{\"shape\":\"\"}},\"name\":\"94\",\"offsetgroup\":\"94\",\"orientation\":\"v\",\"showlegend\":true,\"textposition\":\"auto\",\"type\":\"bar\",\"x\":[\"Hokkaido\"],\"xaxis\":\"x\",\"y\":[94],\"yaxis\":\"y\"},{\"alignmentgroup\":\"True\",\"hovertemplate\":\"Bed_For_Severe=%{y}<br>Prefectures=%{x}<extra></extra>\",\"legendgroup\":\"50\",\"marker\":{\"color\":\"#EF553B\",\"pattern\":{\"shape\":\"\"}},\"name\":\"50\",\"offsetgroup\":\"50\",\"orientation\":\"v\",\"showlegend\":true,\"textposition\":\"auto\",\"type\":\"bar\",\"x\":[\"Hyogo\"],\"xaxis\":\"x\",\"y\":[50],\"yaxis\":\"y\"},{\"alignmentgroup\":\"True\",\"hovertemplate\":\"Bed_For_Severe=%{y}<br>Prefectures=%{x}<extra></extra>\",\"legendgroup\":\"48\",\"marker\":{\"color\":\"#00cc96\",\"pattern\":{\"shape\":\"\"}},\"name\":\"48\",\"offsetgroup\":\"48\",\"orientation\":\"v\",\"showlegend\":true,\"textposition\":\"auto\",\"type\":\"bar\",\"x\":[\"Ibaraki\",\"Kumamoto\",\"Shizuoka\"],\"xaxis\":\"x\",\"y\":[48,48,48],\"yaxis\":\"y\"},{\"alignmentgroup\":\"True\",\"hovertemplate\":\"Bed_For_Severe=%{y}<br>Prefectures=%{x}<extra></extra>\",\"legendgroup\":\"38\",\"marker\":{\"color\":\"#ab63fa\",\"pattern\":{\"shape\":\"\"}},\"name\":\"38\",\"offsetgroup\":\"38\",\"orientation\":\"v\",\"showlegend\":true,\"textposition\":\"auto\",\"type\":\"bar\",\"x\":[\"Iwate\",\"Kyoto\",\"Nagasaki\"],\"xaxis\":\"x\",\"y\":[38,38,38],\"yaxis\":\"y\"},{\"alignmentgroup\":\"True\",\"hovertemplate\":\"Bed_For_Severe=%{y}<br>Prefectures=%{x}<extra></extra>\",\"legendgroup\":\"24\",\"marker\":{\"color\":\"#FFA15A\",\"pattern\":{\"shape\":\"\"}},\"name\":\"24\",\"offsetgroup\":\"24\",\"orientation\":\"v\",\"showlegend\":true,\"textposition\":\"auto\",\"type\":\"bar\",\"x\":[\"Kagawa\",\"Mie\",\"Nara\",\"Okinawa\",\"Saga\"],\"xaxis\":\"x\",\"y\":[24,24,24,24,24],\"yaxis\":\"y\"},{\"alignmentgroup\":\"True\",\"hovertemplate\":\"Bed_For_Severe=%{y}<br>Prefectures=%{x}<extra></extra>\",\"legendgroup\":\"45\",\"marker\":{\"color\":\"#19d3f3\",\"pattern\":{\"shape\":\"\"}},\"name\":\"45\",\"offsetgroup\":\"45\",\"orientation\":\"v\",\"showlegend\":true,\"textposition\":\"auto\",\"type\":\"bar\",\"x\":[\"Kagoshima\"],\"xaxis\":\"x\",\"y\":[45],\"yaxis\":\"y\"},{\"alignmentgroup\":\"True\",\"hovertemplate\":\"Bed_For_Severe=%{y}<br>Prefectures=%{x}<extra></extra>\",\"legendgroup\":\"74\",\"marker\":{\"color\":\"#FF6692\",\"pattern\":{\"shape\":\"\"}},\"name\":\"74\",\"offsetgroup\":\"74\",\"orientation\":\"v\",\"showlegend\":true,\"textposition\":\"auto\",\"type\":\"bar\",\"x\":[\"Kanagawa\"],\"xaxis\":\"x\",\"y\":[74],\"yaxis\":\"y\"},{\"alignmentgroup\":\"True\",\"hovertemplate\":\"Bed_For_Severe=%{y}<br>Prefectures=%{x}<extra></extra>\",\"legendgroup\":\"11\",\"marker\":{\"color\":\"#B6E880\",\"pattern\":{\"shape\":\"\"}},\"name\":\"11\",\"offsetgroup\":\"11\",\"orientation\":\"v\",\"showlegend\":true,\"textposition\":\"auto\",\"type\":\"bar\",\"x\":[\"Kochi\"],\"xaxis\":\"x\",\"y\":[11],\"yaxis\":\"y\"},{\"alignmentgroup\":\"True\",\"hovertemplate\":\"Bed_For_Severe=%{y}<br>Prefectures=%{x}<extra></extra>\",\"legendgroup\":\"31\",\"marker\":{\"color\":\"#FF97FF\",\"pattern\":{\"shape\":\"\"}},\"name\":\"31\",\"offsetgroup\":\"31\",\"orientation\":\"v\",\"showlegend\":true,\"textposition\":\"auto\",\"type\":\"bar\",\"x\":[\"Miyazaki\",\"Tochigi\"],\"xaxis\":\"x\",\"y\":[31,31],\"yaxis\":\"y\"},{\"alignmentgroup\":\"True\",\"hovertemplate\":\"Bed_For_Severe=%{y}<br>Prefectures=%{x}<extra></extra>\",\"legendgroup\":\"46\",\"marker\":{\"color\":\"#FECB52\",\"pattern\":{\"shape\":\"\"}},\"name\":\"46\",\"offsetgroup\":\"46\",\"orientation\":\"v\",\"showlegend\":true,\"textposition\":\"auto\",\"type\":\"bar\",\"x\":[\"Nagano\"],\"xaxis\":\"x\",\"y\":[46],\"yaxis\":\"y\"},{\"alignmentgroup\":\"True\",\"hovertemplate\":\"Bed_For_Severe=%{y}<br>Prefectures=%{x}<extra></extra>\",\"legendgroup\":\"40\",\"marker\":{\"color\":\"#636efa\",\"pattern\":{\"shape\":\"\"}},\"name\":\"40\",\"offsetgroup\":\"40\",\"orientation\":\"v\",\"showlegend\":true,\"textposition\":\"auto\",\"type\":\"bar\",\"x\":[\"Oita\",\"Yamaguchi\"],\"xaxis\":\"x\",\"y\":[40,40],\"yaxis\":\"y\"},{\"alignmentgroup\":\"True\",\"hovertemplate\":\"Bed_For_Severe=%{y}<br>Prefectures=%{x}<extra></extra>\",\"legendgroup\":\"26\",\"marker\":{\"color\":\"#EF553B\",\"pattern\":{\"shape\":\"\"}},\"name\":\"26\",\"offsetgroup\":\"26\",\"orientation\":\"v\",\"showlegend\":true,\"textposition\":\"auto\",\"type\":\"bar\",\"x\":[\"Okayama\"],\"xaxis\":\"x\",\"y\":[26],\"yaxis\":\"y\"},{\"alignmentgroup\":\"True\",\"hovertemplate\":\"Bed_For_Severe=%{y}<br>Prefectures=%{x}<extra></extra>\",\"legendgroup\":\"78\",\"marker\":{\"color\":\"#00cc96\",\"pattern\":{\"shape\":\"\"}},\"name\":\"78\",\"offsetgroup\":\"78\",\"orientation\":\"v\",\"showlegend\":true,\"textposition\":\"auto\",\"type\":\"bar\",\"x\":[\"Osaka\"],\"xaxis\":\"x\",\"y\":[78],\"yaxis\":\"y\"},{\"alignmentgroup\":\"True\",\"hovertemplate\":\"Bed_For_Severe=%{y}<br>Prefectures=%{x}<extra></extra>\",\"legendgroup\":\"70\",\"marker\":{\"color\":\"#ab63fa\",\"pattern\":{\"shape\":\"\"}},\"name\":\"70\",\"offsetgroup\":\"70\",\"orientation\":\"v\",\"showlegend\":true,\"textposition\":\"auto\",\"type\":\"bar\",\"x\":[\"Saitama\"],\"xaxis\":\"x\",\"y\":[70],\"yaxis\":\"y\"},{\"alignmentgroup\":\"True\",\"hovertemplate\":\"Bed_For_Severe=%{y}<br>Prefectures=%{x}<extra></extra>\",\"legendgroup\":\"34\",\"marker\":{\"color\":\"#FFA15A\",\"pattern\":{\"shape\":\"\"}},\"name\":\"34\",\"offsetgroup\":\"34\",\"orientation\":\"v\",\"showlegend\":true,\"textposition\":\"auto\",\"type\":\"bar\",\"x\":[\"Shiga\"],\"xaxis\":\"x\",\"y\":[34],\"yaxis\":\"y\"},{\"alignmentgroup\":\"True\",\"hovertemplate\":\"Bed_For_Severe=%{y}<br>Prefectures=%{x}<extra></extra>\",\"legendgroup\":\"23\",\"marker\":{\"color\":\"#19d3f3\",\"pattern\":{\"shape\":\"\"}},\"name\":\"23\",\"offsetgroup\":\"23\",\"orientation\":\"v\",\"showlegend\":true,\"textposition\":\"auto\",\"type\":\"bar\",\"x\":[\"Tokushima\"],\"xaxis\":\"x\",\"y\":[23],\"yaxis\":\"y\"},{\"alignmentgroup\":\"True\",\"hovertemplate\":\"Bed_For_Severe=%{y}<br>Prefectures=%{x}<extra></extra>\",\"legendgroup\":\"118\",\"marker\":{\"color\":\"#FF6692\",\"pattern\":{\"shape\":\"\"}},\"name\":\"118\",\"offsetgroup\":\"118\",\"orientation\":\"v\",\"showlegend\":true,\"textposition\":\"auto\",\"type\":\"bar\",\"x\":[\"Tokyo\"],\"xaxis\":\"x\",\"y\":[118],\"yaxis\":\"y\"},{\"alignmentgroup\":\"True\",\"hovertemplate\":\"Bed_For_Severe=%{y}<br>Prefectures=%{x}<extra></extra>\",\"legendgroup\":\"12\",\"marker\":{\"color\":\"#B6E880\",\"pattern\":{\"shape\":\"\"}},\"name\":\"12\",\"offsetgroup\":\"12\",\"orientation\":\"v\",\"showlegend\":true,\"textposition\":\"auto\",\"type\":\"bar\",\"x\":[\"Tottori\"],\"xaxis\":\"x\",\"y\":[12],\"yaxis\":\"y\"},{\"alignmentgroup\":\"True\",\"hovertemplate\":\"Bed_For_Severe=%{y}<br>Prefectures=%{x}<extra></extra>\",\"legendgroup\":\"22\",\"marker\":{\"color\":\"#FF97FF\",\"pattern\":{\"shape\":\"\"}},\"name\":\"22\",\"offsetgroup\":\"22\",\"orientation\":\"v\",\"showlegend\":true,\"textposition\":\"auto\",\"type\":\"bar\",\"x\":[\"Toyama\"],\"xaxis\":\"x\",\"y\":[22],\"yaxis\":\"y\"},{\"alignmentgroup\":\"True\",\"hovertemplate\":\"Bed_For_Severe=%{y}<br>Prefectures=%{x}<extra></extra>\",\"legendgroup\":\"18\",\"marker\":{\"color\":\"#FECB52\",\"pattern\":{\"shape\":\"\"}},\"name\":\"18\",\"offsetgroup\":\"18\",\"orientation\":\"v\",\"showlegend\":true,\"textposition\":\"auto\",\"type\":\"bar\",\"x\":[\"Yamagata\"],\"xaxis\":\"x\",\"y\":[18],\"yaxis\":\"y\"}],                        {\"barmode\":\"relative\",\"legend\":{\"title\":{\"text\":\"Bed_For_Severe\"},\"tracegroupgap\":0},\"template\":{\"data\":{\"bar\":[{\"error_x\":{\"color\":\"#2a3f5f\"},\"error_y\":{\"color\":\"#2a3f5f\"},\"marker\":{\"line\":{\"color\":\"#E5ECF6\",\"width\":0.5},\"pattern\":{\"fillmode\":\"overlay\",\"size\":10,\"solidity\":0.2}},\"type\":\"bar\"}],\"barpolar\":[{\"marker\":{\"line\":{\"color\":\"#E5ECF6\",\"width\":0.5},\"pattern\":{\"fillmode\":\"overlay\",\"size\":10,\"solidity\":0.2}},\"type\":\"barpolar\"}],\"carpet\":[{\"aaxis\":{\"endlinecolor\":\"#2a3f5f\",\"gridcolor\":\"white\",\"linecolor\":\"white\",\"minorgridcolor\":\"white\",\"startlinecolor\":\"#2a3f5f\"},\"baxis\":{\"endlinecolor\":\"#2a3f5f\",\"gridcolor\":\"white\",\"linecolor\":\"white\",\"minorgridcolor\":\"white\",\"startlinecolor\":\"#2a3f5f\"},\"type\":\"carpet\"}],\"choropleth\":[{\"colorbar\":{\"outlinewidth\":0,\"ticks\":\"\"},\"type\":\"choropleth\"}],\"contour\":[{\"colorbar\":{\"outlinewidth\":0,\"ticks\":\"\"},\"colorscale\":[[0.0,\"#0d0887\"],[0.1111111111111111,\"#46039f\"],[0.2222222222222222,\"#7201a8\"],[0.3333333333333333,\"#9c179e\"],[0.4444444444444444,\"#bd3786\"],[0.5555555555555556,\"#d8576b\"],[0.6666666666666666,\"#ed7953\"],[0.7777777777777778,\"#fb9f3a\"],[0.8888888888888888,\"#fdca26\"],[1.0,\"#f0f921\"]],\"type\":\"contour\"}],\"contourcarpet\":[{\"colorbar\":{\"outlinewidth\":0,\"ticks\":\"\"},\"type\":\"contourcarpet\"}],\"heatmap\":[{\"colorbar\":{\"outlinewidth\":0,\"ticks\":\"\"},\"colorscale\":[[0.0,\"#0d0887\"],[0.1111111111111111,\"#46039f\"],[0.2222222222222222,\"#7201a8\"],[0.3333333333333333,\"#9c179e\"],[0.4444444444444444,\"#bd3786\"],[0.5555555555555556,\"#d8576b\"],[0.6666666666666666,\"#ed7953\"],[0.7777777777777778,\"#fb9f3a\"],[0.8888888888888888,\"#fdca26\"],[1.0,\"#f0f921\"]],\"type\":\"heatmap\"}],\"heatmapgl\":[{\"colorbar\":{\"outlinewidth\":0,\"ticks\":\"\"},\"colorscale\":[[0.0,\"#0d0887\"],[0.1111111111111111,\"#46039f\"],[0.2222222222222222,\"#7201a8\"],[0.3333333333333333,\"#9c179e\"],[0.4444444444444444,\"#bd3786\"],[0.5555555555555556,\"#d8576b\"],[0.6666666666666666,\"#ed7953\"],[0.7777777777777778,\"#fb9f3a\"],[0.8888888888888888,\"#fdca26\"],[1.0,\"#f0f921\"]],\"type\":\"heatmapgl\"}],\"histogram\":[{\"marker\":{\"pattern\":{\"fillmode\":\"overlay\",\"size\":10,\"solidity\":0.2}},\"type\":\"histogram\"}],\"histogram2d\":[{\"colorbar\":{\"outlinewidth\":0,\"ticks\":\"\"},\"colorscale\":[[0.0,\"#0d0887\"],[0.1111111111111111,\"#46039f\"],[0.2222222222222222,\"#7201a8\"],[0.3333333333333333,\"#9c179e\"],[0.4444444444444444,\"#bd3786\"],[0.5555555555555556,\"#d8576b\"],[0.6666666666666666,\"#ed7953\"],[0.7777777777777778,\"#fb9f3a\"],[0.8888888888888888,\"#fdca26\"],[1.0,\"#f0f921\"]],\"type\":\"histogram2d\"}],\"histogram2dcontour\":[{\"colorbar\":{\"outlinewidth\":0,\"ticks\":\"\"},\"colorscale\":[[0.0,\"#0d0887\"],[0.1111111111111111,\"#46039f\"],[0.2222222222222222,\"#7201a8\"],[0.3333333333333333,\"#9c179e\"],[0.4444444444444444,\"#bd3786\"],[0.5555555555555556,\"#d8576b\"],[0.6666666666666666,\"#ed7953\"],[0.7777777777777778,\"#fb9f3a\"],[0.8888888888888888,\"#fdca26\"],[1.0,\"#f0f921\"]],\"type\":\"histogram2dcontour\"}],\"mesh3d\":[{\"colorbar\":{\"outlinewidth\":0,\"ticks\":\"\"},\"type\":\"mesh3d\"}],\"parcoords\":[{\"line\":{\"colorbar\":{\"outlinewidth\":0,\"ticks\":\"\"}},\"type\":\"parcoords\"}],\"pie\":[{\"automargin\":true,\"type\":\"pie\"}],\"scatter\":[{\"marker\":{\"colorbar\":{\"outlinewidth\":0,\"ticks\":\"\"}},\"type\":\"scatter\"}],\"scatter3d\":[{\"line\":{\"colorbar\":{\"outlinewidth\":0,\"ticks\":\"\"}},\"marker\":{\"colorbar\":{\"outlinewidth\":0,\"ticks\":\"\"}},\"type\":\"scatter3d\"}],\"scattercarpet\":[{\"marker\":{\"colorbar\":{\"outlinewidth\":0,\"ticks\":\"\"}},\"type\":\"scattercarpet\"}],\"scattergeo\":[{\"marker\":{\"colorbar\":{\"outlinewidth\":0,\"ticks\":\"\"}},\"type\":\"scattergeo\"}],\"scattergl\":[{\"marker\":{\"colorbar\":{\"outlinewidth\":0,\"ticks\":\"\"}},\"type\":\"scattergl\"}],\"scattermapbox\":[{\"marker\":{\"colorbar\":{\"outlinewidth\":0,\"ticks\":\"\"}},\"type\":\"scattermapbox\"}],\"scatterpolar\":[{\"marker\":{\"colorbar\":{\"outlinewidth\":0,\"ticks\":\"\"}},\"type\":\"scatterpolar\"}],\"scatterpolargl\":[{\"marker\":{\"colorbar\":{\"outlinewidth\":0,\"ticks\":\"\"}},\"type\":\"scatterpolargl\"}],\"scatterternary\":[{\"marker\":{\"colorbar\":{\"outlinewidth\":0,\"ticks\":\"\"}},\"type\":\"scatterternary\"}],\"surface\":[{\"colorbar\":{\"outlinewidth\":0,\"ticks\":\"\"},\"colorscale\":[[0.0,\"#0d0887\"],[0.1111111111111111,\"#46039f\"],[0.2222222222222222,\"#7201a8\"],[0.3333333333333333,\"#9c179e\"],[0.4444444444444444,\"#bd3786\"],[0.5555555555555556,\"#d8576b\"],[0.6666666666666666,\"#ed7953\"],[0.7777777777777778,\"#fb9f3a\"],[0.8888888888888888,\"#fdca26\"],[1.0,\"#f0f921\"]],\"type\":\"surface\"}],\"table\":[{\"cells\":{\"fill\":{\"color\":\"#EBF0F8\"},\"line\":{\"color\":\"white\"}},\"header\":{\"fill\":{\"color\":\"#C8D4E3\"},\"line\":{\"color\":\"white\"}},\"type\":\"table\"}]},\"layout\":{\"annotationdefaults\":{\"arrowcolor\":\"#2a3f5f\",\"arrowhead\":0,\"arrowwidth\":1},\"autotypenumbers\":\"strict\",\"coloraxis\":{\"colorbar\":{\"outlinewidth\":0,\"ticks\":\"\"}},\"colorscale\":{\"diverging\":[[0,\"#8e0152\"],[0.1,\"#c51b7d\"],[0.2,\"#de77ae\"],[0.3,\"#f1b6da\"],[0.4,\"#fde0ef\"],[0.5,\"#f7f7f7\"],[0.6,\"#e6f5d0\"],[0.7,\"#b8e186\"],[0.8,\"#7fbc41\"],[0.9,\"#4d9221\"],[1,\"#276419\"]],\"sequential\":[[0.0,\"#0d0887\"],[0.1111111111111111,\"#46039f\"],[0.2222222222222222,\"#7201a8\"],[0.3333333333333333,\"#9c179e\"],[0.4444444444444444,\"#bd3786\"],[0.5555555555555556,\"#d8576b\"],[0.6666666666666666,\"#ed7953\"],[0.7777777777777778,\"#fb9f3a\"],[0.8888888888888888,\"#fdca26\"],[1.0,\"#f0f921\"]],\"sequentialminus\":[[0.0,\"#0d0887\"],[0.1111111111111111,\"#46039f\"],[0.2222222222222222,\"#7201a8\"],[0.3333333333333333,\"#9c179e\"],[0.4444444444444444,\"#bd3786\"],[0.5555555555555556,\"#d8576b\"],[0.6666666666666666,\"#ed7953\"],[0.7777777777777778,\"#fb9f3a\"],[0.8888888888888888,\"#fdca26\"],[1.0,\"#f0f921\"]]},\"colorway\":[\"#636efa\",\"#EF553B\",\"#00cc96\",\"#ab63fa\",\"#FFA15A\",\"#19d3f3\",\"#FF6692\",\"#B6E880\",\"#FF97FF\",\"#FECB52\"],\"font\":{\"color\":\"#2a3f5f\"},\"geo\":{\"bgcolor\":\"white\",\"lakecolor\":\"white\",\"landcolor\":\"#E5ECF6\",\"showlakes\":true,\"showland\":true,\"subunitcolor\":\"white\"},\"hoverlabel\":{\"align\":\"left\"},\"hovermode\":\"closest\",\"mapbox\":{\"style\":\"light\"},\"paper_bgcolor\":\"white\",\"plot_bgcolor\":\"#E5ECF6\",\"polar\":{\"angularaxis\":{\"gridcolor\":\"white\",\"linecolor\":\"white\",\"ticks\":\"\"},\"bgcolor\":\"#E5ECF6\",\"radialaxis\":{\"gridcolor\":\"white\",\"linecolor\":\"white\",\"ticks\":\"\"}},\"scene\":{\"xaxis\":{\"backgroundcolor\":\"#E5ECF6\",\"gridcolor\":\"white\",\"gridwidth\":2,\"linecolor\":\"white\",\"showbackground\":true,\"ticks\":\"\",\"zerolinecolor\":\"white\"},\"yaxis\":{\"backgroundcolor\":\"#E5ECF6\",\"gridcolor\":\"white\",\"gridwidth\":2,\"linecolor\":\"white\",\"showbackground\":true,\"ticks\":\"\",\"zerolinecolor\":\"white\"},\"zaxis\":{\"backgroundcolor\":\"#E5ECF6\",\"gridcolor\":\"white\",\"gridwidth\":2,\"linecolor\":\"white\",\"showbackground\":true,\"ticks\":\"\",\"zerolinecolor\":\"white\"}},\"shapedefaults\":{\"line\":{\"color\":\"#2a3f5f\"}},\"ternary\":{\"aaxis\":{\"gridcolor\":\"white\",\"linecolor\":\"white\",\"ticks\":\"\"},\"baxis\":{\"gridcolor\":\"white\",\"linecolor\":\"white\",\"ticks\":\"\"},\"bgcolor\":\"#E5ECF6\",\"caxis\":{\"gridcolor\":\"white\",\"linecolor\":\"white\",\"ticks\":\"\"}},\"title\":{\"x\":0.05},\"xaxis\":{\"automargin\":true,\"gridcolor\":\"white\",\"linecolor\":\"white\",\"ticks\":\"\",\"title\":{\"standoff\":15},\"zerolinecolor\":\"white\",\"zerolinewidth\":2},\"yaxis\":{\"automargin\":true,\"gridcolor\":\"white\",\"linecolor\":\"white\",\"ticks\":\"\",\"title\":{\"standoff\":15},\"zerolinecolor\":\"white\",\"zerolinewidth\":2}}},\"title\":{\"text\":\"The number of beds that the patients with severe symptoms can use\"},\"xaxis\":{\"anchor\":\"y\",\"domain\":[0.0,1.0],\"title\":{\"text\":\"Prefectures\"}},\"yaxis\":{\"anchor\":\"x\",\"categoryarray\":[18,22,12,118,23,34,70,78,26,40,46,31,11,74,45,24,38,48,50,94,52,30,36,66,20,28,58,29,32,72],\"categoryorder\":\"array\",\"domain\":[0.0,1.0],\"title\":{\"text\":\"Bed_For_Severe\"}}},                        {\"responsive\": true}                    ).then(function(){\n",
       "                            \n",
       "var gd = document.getElementById('f1299d61-038b-4c5e-885b-70b6208a2e43');\n",
       "var x = new MutationObserver(function (mutations, observer) {{\n",
       "        var display = window.getComputedStyle(gd).display;\n",
       "        if (!display || display === 'none') {{\n",
       "            console.log([gd, 'removed!']);\n",
       "            Plotly.purge(gd);\n",
       "            observer.disconnect();\n",
       "        }}\n",
       "}});\n",
       "\n",
       "// Listen for the removal of the full notebook cells\n",
       "var notebookContainer = gd.closest('#notebook-container');\n",
       "if (notebookContainer) {{\n",
       "    x.observe(notebookContainer, {childList: true});\n",
       "}}\n",
       "\n",
       "// Listen for the clearing of the current output cell\n",
       "var outputEl = gd.closest('.output');\n",
       "if (outputEl) {{\n",
       "    x.observe(outputEl, {childList: true});\n",
       "}}\n",
       "\n",
       "                        })                };                });            </script>        </div>"
      ]
     },
     "metadata": {},
     "output_type": "display_data"
    }
   ],
   "source": [
    "# create bar chart\n",
    "fig = px.bar(df_hop,\n",
    "             x=df_hop.index,\n",
    "             y='Bed_For_Severe',\n",
    "             color='Bed_For_Severe',\n",
    "             labels={\"Prefecture\":\"Prefectures\",\"Bed_for_severe\":\"Number of Beds\"},\n",
    "             title=\"The number of beds that the patients with severe symptoms can use\") \n",
    "fig.show()"
   ]
  }
 ],
 "metadata": {
  "kernelspec": {
   "display_name": "Python 3",
   "language": "python",
   "name": "python3"
  },
  "language_info": {
   "codemirror_mode": {
    "name": "ipython",
    "version": 3
   },
   "file_extension": ".py",
   "mimetype": "text/x-python",
   "name": "python",
   "nbconvert_exporter": "python",
   "pygments_lexer": "ipython3",
   "version": "3.7.11"
  }
 },
 "nbformat": 4,
 "nbformat_minor": 5
}
